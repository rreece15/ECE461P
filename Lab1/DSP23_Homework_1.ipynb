{
  "cells": [
    {
      "attachments": {},
      "cell_type": "markdown",
      "metadata": {
        "id": "QDMxPNTM-8Ew"
      },
      "source": [
        "## EE 461P: Data Science Principles  \n",
        "### Assignment 1  \n",
        "### Total points: 75\n",
        "### Due: Tuesday, January 31, 2023, submitted via Canvas by 11:59 pm  \n",
        "\n",
        "Your homework should be written in a **Jupyter notebook**. You may work in groups of two if you wish. Only one student per team needs to submit the assignment on Canvas.  But be sure to include name and UT eID for both students.  Homework groups will be created and managed through Canvas, so please do not arbitrarily change your homework group. If you do change, let the TAs know.\n",
        "\n",
        "Also, please make sure your code runs and the graphics (and anything else) are displayed in your notebook before submitting. (%matplotlib inline)\n",
        "\n",
        "### Name(s) and EID(s):\n",
        "1. Reece Riherd, rdr2793\n",
        "2. (if applicable)."
      ]
    },
    {
      "cell_type": "markdown",
      "metadata": {
        "id": "2l4ZpGDS0bVI"
      },
      "source": [
        "# Question 1 (5 points)\n",
        "\n",
        "Read [this](https://www.covid-datascience.com/post/israeli-data-how-can-efficacy-vs-severe-disease-be-strong-when-60-of-hospitalized-are-vaccinated) article that talks about the possibility of vaccines being uneffective in Israel since nearly 60% of severe COVID-19 hospitalization in Israel were vaccinated people. Use Simpson's Paradox to briefly explain if this claim holds true.\n"
      ]
    },
    {
      "attachments": {},
      "cell_type": "markdown",
      "metadata": {
        "id": "qaijrS9q8_go"
      },
      "source": [
        "# Answer 1\n",
        "\n",
        "When applying Simpson's Paradox to the claim that vaccines are ineffective in Israel, the claim is refuted by the reversal of the trend when data among specific age groups is compared. Although vaccines only show 67.5% efficacy when analyzed with every age group, efffectiveness is consistently shown in the range of 88.7% and 100% for most age groups when analyzed individually. This in combination with factors that influence the disparity of severe Covid cases like age disparity, high rates of vaccination, and a higher likelihood to vaccinate in older generations creates confusion in the interpretation of the data. The apparency of the effectiveness of vaccination is diminished by these external factors, but when these factors are separated (such as by age groups), the effectiveness of vaccination is obvious, thus showing a clear example of Simpson's Paradox."
      ]
    },
    {
      "cell_type": "markdown",
      "metadata": {
        "id": "NNBbUfy9Fxqg"
      },
      "source": [
        "# Question 2 (10 points)\n",
        "\n",
        "100 students in the previous offering of this class were asked if they wanted to form their own groups for the course project or have the instructor randomize the groups. They reported their preferences by entering Yes or No in the survey. We use 0 to represent preferring their own groups and 1 to represent randomized groups. A random sample of 20 students yielded the following preferences:\n",
        "\n",
        "$$1 0 1 1 0 1 0 1 1 1 0 1 1 0 1 0 0 1 1 1$$\n",
        "\n",
        "These choices are assumed to arise by independent and identically distributed (i.i.d.) sampling from the following distribution and if the unknown parameter $q$ can be estimated, then we can provide more insights about the students' preference regrading the project groups.\n",
        "\n",
        "$$\n",
        "\\begin{equation}\n",
        "\\nonumber P(x) = \\left\\{\n",
        "\\begin{array}{l l}\n",
        "    q& \\quad \\text{for  } x=0\\\\\n",
        "1-q & \\quad \\text{for } x=1\n",
        "\\end{array} \\right.\n",
        "\\end{equation}\n",
        "$$\n",
        "\n",
        "Based on the definitions given above, identify the likelihood function and derive the **maximum likelihood estimator** of $q$. Using the given sample, find a maximum likelihood estimate of $q$ as well."
      ]
    },
    {
      "attachments": {},
      "cell_type": "markdown",
      "metadata": {
        "id": "LJ_Kz4VN9Dus"
      },
      "source": [
        "# Answer 2\n",
        "\n",
        "To find the maximum likelihood estimator of a Bernoulli variable, we first take the definition of the likelihood function to obtain\n",
        "$$\n",
        "\\begin{aligned}\n",
        "L(\\theta)=\\prod_{n=1}^{N}{P_{X_{n}}{(x_{n};q)}}\\\\\\\n",
        "\\end{aligned}\n",
        "$$\n",
        "then, setting our data set\n",
        "$$\n",
        "\\begin{aligned} D={x_{1},...,x_{N}}\n",
        "\\end{aligned}\n",
        "$$\n",
        "We have\n",
        "$$\n",
        "\\begin{aligned}\n",
        "p(D|\\mu)=\\prod_{n=1}^{N}{p{(x_{n}|\\mu)}}\\\\\\\n",
        "=\\prod_{n=1}^{N}{\\mu^{x_{n}}(1-\\mu)^{1-x_{n}}}\n",
        "\\end{aligned}\n",
        "$$\n",
        "\n",
        "Taking the logarithm of the likelihood, we have\n",
        "$$\n",
        "\\begin{aligned}\n",
        "ln p(D|\\mu)=\\sum_{n=1}^{N}{ln(p{(x_{n}|\\mu)})}\\\\\\\n",
        "=\\sum_{n=1}^{N}{x_{n}ln(\\mu)+(1-x_{n})ln(1-\\mu)}\n",
        "\\end{aligned}\n",
        "$$\n",
        "Now,\n",
        "$$\n",
        "\\begin{aligned}\n",
        "\\frac{d(ln p(D|\\mu))}{d\\mu}[\\sum_{n=1}^{N}{ln(p{(x_{n}|\\mu)})}]=0\\\\\\\n",
        "\\rightarrow \\mu_{ML}=\\frac{1}{N}\\sum_{n=1}^{N}{x_{n}}\n",
        "\\end{aligned}\n",
        "$$\n",
        "\n",
        "Then, since there are N=20 students and there are 13 values equal to 1, the value of this equation, and the maximum likelihood estimate of q, is 13/20=0.65.\n"
      ]
    },
    {
      "cell_type": "markdown",
      "metadata": {
        "id": "yHBVQzeVPs02"
      },
      "source": [
        "# Question 3 (5+5 points)\n",
        "\n",
        "a) Briefly explain what you understand by an estimator of a numeric quantity being unbiased? Show that the MLE for the variance of a Gaussian is biased.\n",
        "\n",
        "b) Suppose the mean of the Gaussian distribution, $\\mu$. So given a data set assumed to be obtained by sampling i.i.d from this Gaussian, your job is to obtain the MLE for the unknown variance. Derive the equation for this estimate and show that it is unbiased."
      ]
    },
    {
      "cell_type": "markdown",
      "metadata": {
        "id": "UovxZfi8Pt7N"
      },
      "source": [
        "# Answer 3\n"
      ]
    },
    {
      "attachments": {},
      "cell_type": "markdown",
      "metadata": {},
      "source": [
        "a.)\n",
        "\n",
        "An estimator is considered to be unbiased if the mean of the sampling distribution of the estimator is equal (or approximately equal) to the true parameter value of the estimator. \n",
        "\n",
        "Then, finding the expected value of the variance estimator, we have\n",
        "\n",
        "$$\n",
        "\\begin{aligned}\n",
        "E[\\sigma^{2}]=E[\\frac{1}{N}\\sum_{i=1}^{N}{(y_{n}-\\hat{\\mu}_{mle})^{2}}]\\\\\\\n",
        "=\\frac{1}{N}E[\\sum_{i=1}^{N}{y_{i}^{2}}-2\\sum_{i=1}^{N}{y_{i}\\bar{y}}+\\sum_{i=1}^{N}{\\bar{y}^{2}}]\\\\\\\n",
        "=\\frac{1}{N}E[\\sum_{i=1}^{N}{y_{i}^{2}-2N\\bar{y}^{2}+N\\bar{y}^{2}}]\\\\\\\n",
        "=\\frac{1}{N}E[\\sum_{i=1}^{N}{y_{i}^{2}-N\\bar{y}^{2}}]\\\\\\\n",
        "=\\frac{1}{N}E[\\sum_{i=1}^{N}{y_{i}^{2}}]-E[\\bar{y}^{2}]\\\\\\\n",
        "=E[{y^{2}}]-E[\\bar{y}^{2}]\\\\\\\n",
        "\\end{aligned}\n",
        "$$\n",
        "\n",
        "and, since \n",
        "$$\n",
        "\\begin{aligned}\n",
        "\\sigma_{y}^{2}=E[y^{2}]-E[y]^{2}\n",
        "\\end{aligned}\n",
        "$$\n",
        "and\n",
        "$$\n",
        "\\begin{aligned}\n",
        "E[y]=E[\\bar{y}]=\\mu\n",
        "\\end{aligned}\n",
        "$$\n",
        "we have\n",
        "$$\n",
        "\\begin{aligned}\n",
        "E[\\sigma^{2}]=(\\sigma_{y}^{2}+\\mu^{2})-(\\sigma_{\\bar{y}}^{2}+\\mu^{2})\\\\\\\n",
        "=\\sigma_{y}^{2}-\\sigma_{\\bar{y}}^{2}\n",
        "\\end{aligned}\n",
        "$$\n",
        "Now, we can find the following\n",
        "$$\n",
        "\\begin{aligned}\n",
        "\\sigma_{\\bar{y}}^{2}=Var[\\bar{y}]=\\frac{1}{N^{2}}Var[\\sum_{i=1}^{N}{y_{i}}]\\\\\\\n",
        "\\end{aligned}\n",
        "$$\n",
        "where\n",
        "$$\n",
        "\\begin{aligned}\n",
        "Var[\\sum_{i=1}^{N}{y_{i}}]=\\sum_{i=1}^{N}{Var[y]}=N*Var[y]\\\\\\\n",
        "\\end{aligned}\n",
        "$$\n",
        "so,\n",
        "$$\n",
        "\\begin{aligned}\n",
        "\\sigma_{\\bar{y}}^{2}=\\frac{1}{N}Var[y]=\\frac{1}{N}\\sigma_{y}^{2}\\\\\\\n",
        "\\end{aligned}\n",
        "$$\n",
        "and\n",
        "$$\n",
        "\\begin{aligned}\n",
        "E[\\sigma^{2}]=\\frac{N-1}{N}\\sigma_{y}^{2}\\\\\\\n",
        "\\end{aligned}\n",
        "$$\n",
        "Therefore,\n",
        "$$\n",
        "\\begin{aligned}\n",
        "E[\\sigma^{2}]\\neq\\sigma_{y}^{2}\\\\\\\n",
        "\\end{aligned}\n",
        "$$\n",
        "and the MLE for the variance of a Gaussian is biased.\n"
      ]
    },
    {
      "attachments": {},
      "cell_type": "markdown",
      "metadata": {},
      "source": [
        "b.)"
      ]
    },
    {
      "cell_type": "markdown",
      "metadata": {
        "id": "pqV_7myxCupC"
      },
      "source": [
        "# Question 4 (5+5 points)\n",
        "\n",
        "a) What is multicollinearity in the context of linear regression and why is it problematic?\n",
        "\n",
        "b) How do you diagnose and fix multicollinearity?\n"
      ]
    },
    {
      "cell_type": "markdown",
      "metadata": {
        "id": "U2a5wCF9C7Vw"
      },
      "source": [
        "# Answer 4"
      ]
    },
    {
      "attachments": {},
      "cell_type": "markdown",
      "metadata": {},
      "source": [
        "a.)\n",
        "Multicollinearity occurs when multiple features of a regression model are correlated with each other, or when those variables are linearly related. This is problematic because multicollinearity makes the results of the model difficult to interpret since they could have been a result of multiple features either individually or together. It can also cause an unstable model that varies significantly given small changes in the data or model, and can result in overfitting, or a decrease in accuracy when applied to another set of data."
      ]
    },
    {
      "attachments": {},
      "cell_type": "markdown",
      "metadata": {},
      "source": [
        "b.)\n",
        "It is possible to detect multicollinearity through the correlation matrix of independent variables. Independent values that are highly correlated with each other in this matrix could be a cause for multicollinearity.\n",
        "\n",
        "Then, to fix the isue of multicollinearity, the variables which more significantly effect the output of the model can be isolated to reduce the effects of multicollinearity. Then, if the problem still persists, variable transformation could reduce the correlation of the features with each other by changing the presentation or range of the data (for example removing the any data taken from the current month)."
      ]
    },
    {
      "cell_type": "markdown",
      "metadata": {
        "id": "Y8M2y37dATTO"
      },
      "source": [
        "# Question 5 : Regression (40 points)\n"
      ]
    },
    {
      "cell_type": "markdown",
      "metadata": {
        "id": "JIeme-FoAWxH"
      },
      "source": [
        "### 5.1 Generate Data (5 points)\n",
        "Generate a synthetic regression dataset using make_regression from [sklearn.datasets](https://scikit-learn.org/stable/modules/generated/sklearn.datasets.make_regression.html) with the following characteristics :\n",
        "n_samples = 20000, n_features = 20, n_informative = 15, n_targets = 1, coef = True and random_state = 42, bias = True, noise = 0.1.\n",
        "\n",
        "**Reading Assignment** : Read about how this data is generated and the affect of the above mentioned parameters on the data. "
      ]
    },
    {
      "cell_type": "code",
      "execution_count": 2,
      "metadata": {
        "id": "TYOT8DJcAX7q"
      },
      "outputs": [],
      "source": [
        "import pandas as pd\n",
        "from matplotlib import pyplot\n",
        "from sklearn.datasets import make_regression\n",
        "import numpy as np\n",
        "from sklearn.model_selection import train_test_split\n",
        "from sklearn.linear_model import LinearRegression\n",
        "from sklearn.linear_model import Ridge\n",
        "from sklearn.linear_model import Lasso\n",
        "from sklearn.metrics import mean_squared_error\n",
        "\n",
        "\n",
        "x,y,coef = make_regression(n_samples=20000, n_features=20, n_informative=15, n_targets=1, bias=True, noise=0.1, coef=True, random_state=42)\n",
        "\n",
        "# pyplot.scatter(x,y)\n",
        "# pyplot.show()"
      ]
    },
    {
      "cell_type": "markdown",
      "metadata": {
        "id": "HI4XeUtjAYgc"
      },
      "source": [
        "### 5.2 Perform Regression (10 points)\n",
        "a) Divide the above obtained data into a train/test split by using 20% of the data for testing. Then train a linear regression model using Ordinary Least Squares method from [sklearn](https://scikit-learn.org/stable/modules/linear_model.html). \n",
        "\n",
        "b) Evaluate the trained model using Mean Squared Error on both train and test datasets and report the performance. \n",
        "\n",
        "c) Also, print the coefficients and bias obtained after the fit and compare them with the coefficients and bias that were used for generating the data in 5.1. "
      ]
    },
    {
      "cell_type": "code",
      "execution_count": 3,
      "metadata": {
        "id": "0joZZhB_AbR3"
      },
      "outputs": [
        {
          "data": {
            "text/plain": [
              "LinearRegression()"
            ]
          },
          "execution_count": 3,
          "metadata": {},
          "output_type": "execute_result"
        }
      ],
      "source": [
        "# a.)\n",
        "x_train, x_test, y_train, y_test = train_test_split(x,y, test_size=0.2, random_state=42)\n",
        "# print(len(x_train))\n",
        "# print(len(y_train))\n",
        "\n",
        "# result = sm.OLS(y_train, x_train).fit()\n",
        "# print(result)\n",
        "# print(result.summary())\n",
        "\n",
        "model = LinearRegression()\n",
        "model.fit(x_train, y_train)\n",
        "\n"
      ]
    },
    {
      "cell_type": "code",
      "execution_count": 4,
      "metadata": {},
      "outputs": [
        {
          "name": "stdout",
          "output_type": "stream",
          "text": [
            "Mean squared error of test: 0.010471\n",
            "Mean squared error of train: 0.009975\n"
          ]
        }
      ],
      "source": [
        "# b.)\n",
        "y_pred = model.predict(x_test)\n",
        "y_pred2 = model.predict(x_train)\n",
        "\n",
        "\n",
        "print(\"Mean squared error of test: %f\" % mean_squared_error(y_test, y_pred))\n",
        "print(\"Mean squared error of train: %f\" % mean_squared_error(y_train, y_pred2))"
      ]
    },
    {
      "cell_type": "code",
      "execution_count": 5,
      "metadata": {},
      "outputs": [
        {
          "name": "stdout",
          "output_type": "stream",
          "text": [
            "Coefficients when generating data: \n",
            " [49.75788258 90.83665798 25.02841944  0.          4.60361603 30.85350704\n",
            "  0.         93.84635499 56.30241747 65.6311587  17.00530636  0.\n",
            " 31.35960057  0.         60.7651503  54.96244433 28.80887553  0.\n",
            " 87.80872023 96.00842932]\n",
            "Coefficients after fitting the data: \n",
            " [ 4.97568103e+01  9.08349608e+01  2.50288380e+01 -5.34098116e-05\n",
            "  4.60368487e+00  3.08548793e+01  9.58574094e-04  9.38474589e+01\n",
            "  5.63027054e+01  6.56306844e+01  1.70049794e+01  1.37272463e-03\n",
            "  3.13598926e+01  7.87077400e-04  6.07646643e+01  5.49635451e+01\n",
            "  2.88097930e+01  1.50933877e-04  8.78089100e+01  9.60072744e+01]\n",
            "Bias when generating the data was True, or 1.\n",
            "Bias after fitting the data was 0.9995602406110253\n"
          ]
        }
      ],
      "source": [
        "# c.)\n",
        "print(\"Coefficients when generating data: \\n\", coef)\n",
        "print(\"Coefficients after fitting the data: \\n\", model.coef_)\n",
        "print(\"Bias when generating the data was True, or 1.\")\n",
        "print(\"Bias after fitting the data was\", model.intercept_)"
      ]
    },
    {
      "cell_type": "markdown",
      "metadata": {
        "id": "HgzF7qSSAbf5"
      },
      "source": [
        "### 5.3 Residuals (5 points)\n",
        "a) Compute the residuals (difference between predicted and original values)  of the trained model on the test data. Compute and show the mean and variance of the residuals. \n",
        "\n",
        "b) Scatter plot the residuals along with true predictions and observe how are the residuals distributed.\n",
        "\n",
        "(BONUS) How do the above observations relate to one of the asumptions behind the MLR model? (5 points)"
      ]
    },
    {
      "cell_type": "code",
      "execution_count": 36,
      "metadata": {
        "id": "xujyYrCEAd1x"
      },
      "outputs": [
        {
          "name": "stdout",
          "output_type": "stream",
          "text": [
            "mean is 0.08195903246928546\n",
            "variance is 0.003754117994819662\n"
          ]
        }
      ],
      "source": [
        "# a.)\n",
        "\n",
        "residuals = y_test - y_pred\n",
        "mean = np.mean(np.abs(residuals))\n",
        "variance = np.var(np.abs(residuals))\n",
        "print(\"mean is\", mean)\n",
        "print(\"variance is\", variance)"
      ]
    },
    {
      "cell_type": "code",
      "execution_count": 34,
      "metadata": {},
      "outputs": [
        {
          "data": {
            "image/png": "[encoded data removed]",
            "text/plain": [
              "<Figure size 432x288 with 1 Axes>"
            ]
          },
          "metadata": {
            "needs_background": "light"
          },
          "output_type": "display_data"
        }
      ],
      "source": [
        "# b.)\n",
        "# I don't know if this is right? Should we be plotting against x?\n",
        "pyplot.scatter(y_test, y_pred, label=\"True Predictions\")\n",
        "pyplot.scatter(y_test, residuals, label=\"Residuals\")\n",
        "pyplot.legend(loc=\"upper left\")\n",
        "pyplot.title(\"Residuals and Predictions of the Trained Model\")\n",
        "pyplot.xlabel(\"Y Test Values\")\n",
        "pyplot.ylabel(\"\")\n",
        "pyplot.show()"
      ]
    },
    {
      "attachments": {},
      "cell_type": "markdown",
      "metadata": {},
      "source": [
        "### Bonus\n",
        "This is related to the assumption that deviations of the error term are normally distributed, independent from each other and identically distributed, since the residuals are related to the error term (residuals being compared to sample data rather than real data). From the points on the scatter plot, it is easy to see that the residuals are normally distributed (with data points being condense around the center and more sparse on the edges), independent from each other (each point on the graph represents a different original iid data point), and identically distributed (the residuals have constant variance, as reflected in the residuals centering around a value of 0, approximately the calculated variance for the residuals, for all of the test values)."
      ]
    },
    {
      "cell_type": "markdown",
      "metadata": {
        "id": "qJPQpojJAeAa"
      },
      "source": [
        "### 5.4 Lasso and Ridge Regression (10 points)\n",
        "\n",
        "a) Run Lasso and Ridge regression on the data generated in 5.1 by varying the parameter alpha from 10^-3 to 10^3. For each value of the alpha, store the train error (MSE), test error (MSE), and norm of the coefficient vector using [numpy.linalg.norm](https://numpy.org/doc/stable/reference/generated/numpy.linalg.norm.html).\n",
        "\n",
        "b) Plot the train error, test error and the norm of the coefficient vector with increasing alpha and note what you observe. Use one plot for train error and test error and another for the norm.\n"
      ]
    },
    {
      "cell_type": "code",
      "execution_count": 27,
      "metadata": {
        "id": "LDT3C9W7j4QW"
      },
      "outputs": [],
      "source": [
        "# a.)\n",
        "alpha = []\n",
        "ridge_trainMSE = []\n",
        "ridge_testMSE = []\n",
        "lasso_trainMSE = []\n",
        "lasso_testMSE = []\n",
        "\n",
        "rcoefficient_norm = []\n",
        "lcoefficient_norm = []\n",
        "x = -3\n",
        "while x < 3:\n",
        "    alpha.append(x)\n",
        "\n",
        "    ridge = Ridge(alpha=10**x, normalize=True)\n",
        "    ridge.fit(x_train, y_train)\n",
        "    ridge_pred = ridge.predict(x_test)\n",
        "    ridge_pred1 = ridge.predict(x_train)\n",
        "    # print(ridge_pred)\n",
        "    ridge_trainMSE.append(mean_squared_error(ridge_pred1, y_train)) # print(\"ridge training error is\", mean_squared_error(ridge_pred1, y_train))\n",
        "    ridge_testMSE.append(mean_squared_error(ridge_pred, y_test)) # print(\"ridge testing error is\", mean_squared_error(ridge_pred, y_test))\n",
        "\n",
        "    rcoefficient_norm.append(np.linalg.norm(ridge.coef_))\n",
        "    #print(\"ridge train error is\", mean_squared_error(ridge_pred, y_pred)))\n",
        "\n",
        "    lasso = Lasso(alpha=10**x, normalize=True)\n",
        "    lasso.fit(x_train, y_train)\n",
        "    lasso_pred = lasso.predict(x_test)\n",
        "    lasso_pred1 = lasso.predict(x_train)\n",
        "\n",
        "    lasso_trainMSE.append(mean_squared_error(lasso_pred1, y_train))\n",
        "    lasso_testMSE.append(mean_squared_error(lasso_pred, y_test))\n",
        "\n",
        "    # print(\"lasso training error is\", mean_squared_error(lasso_pred1, y_train))\n",
        "    # print(\"lasso testing error is\", mean_squared_error(lasso_pred, y_test))\n",
        "\n",
        "    lcoefficient_norm.append(np.linalg.norm(lasso.coef_))\n",
        "    x = x + 0.01\n",
        "\n",
        "\n"
      ]
    },
    {
      "cell_type": "code",
      "execution_count": 30,
      "metadata": {},
      "outputs": [
        {
          "data": {
            "image/png": "[encoded data removed]",
            "text/plain": [
              "<Figure size 432x288 with 1 Axes>"
            ]
          },
          "metadata": {
            "needs_background": "light"
          },
          "output_type": "display_data"
        },
        {
          "data": {
            "image/png": "[encoded data removed]",
            "text/plain": [
              "<Figure size 432x288 with 1 Axes>"
            ]
          },
          "metadata": {
            "needs_background": "light"
          },
          "output_type": "display_data"
        }
      ],
      "source": [
        "# b.)\n",
        "\n",
        "pyplot.scatter(alpha, ridge_trainMSE, label=\"Training Error\")\n",
        "pyplot.scatter(alpha, ridge_testMSE, label=\"Testing Error\")\n",
        "pyplot.scatter(alpha, rcoefficient_norm, label=\"Coefficient Norm\")\n",
        "pyplot.legend(loc=\"upper left\")\n",
        "pyplot.title(\"Ridge Regression\")\n",
        "pyplot.xlabel(\"Alpha (10^x)\")\n",
        "pyplot.ylabel(\"Ridge Error and Coefficient Norm\")\n",
        "pyplot.show()\n",
        "\n",
        "pyplot.scatter(alpha, lasso_trainMSE, label=\"Training Error\")\n",
        "pyplot.scatter(alpha, lasso_testMSE, label=\"Testing Error\")\n",
        "pyplot.scatter(alpha, lcoefficient_norm, label=\"Coefficient Norm\")\n",
        "pyplot.legend(loc=\"upper left\")\n",
        "pyplot.title(\"Lasso Regression\")\n",
        "pyplot.xlabel(\"Alpha (10^x)\")\n",
        "pyplot.ylabel(\"Lasso Error and Coefficient Norm\")\n",
        "pyplot.show()"
      ]
    },
    {
      "cell_type": "markdown",
      "metadata": {
        "id": "iWbeD15fRXdl"
      },
      "source": [
        "### 5.5 Real-world Regression Problem (10 points)\n",
        "\n",
        "The dataset in the file ecommerce_dataset.csv is for an ecommerce business trying to predict the annual amount spent by each customer. Use Lasso and Ridge regression on the set of independent variables {Average Session Length, Time on App, Time on Website, Length of Membership}  to predict the dependent variable **Yearly Amount Spent**. Vary the value of alpha in the range 10^-6 to 10^5 and do 5-fold cross-validation using sklearn's KFold to find the value of alpha that gives best performance as measured using MSE."
      ]
    },
    {
      "cell_type": "code",
      "execution_count": null,
      "metadata": {
        "id": "snk9yvieSX5d"
      },
      "outputs": [],
      "source": []
    }
  ],
  "metadata": {
    "colab": {
      "collapsed_sections": [
        "QDMxPNTM-8Ew",
        "NNBbUfy9Fxqg",
        "yHBVQzeVPs02"
      ],
      "provenance": []
    },
    "kernelspec": {
      "display_name": "base",
      "language": "python",
      "name": "python3"
    },
    "language_info": {
      "codemirror_mode": {
        "name": "ipython",
        "version": 3
      },
      "file_extension": ".py",
      "mimetype": "text/x-python",
      "name": "python",
      "nbconvert_exporter": "python",
      "pygments_lexer": "ipython3",
      "version": "3.8.3"
    },
    "vscode": {
      "interpreter": {
        "hash": "e8cfd1dbc86f0b534087d5775aced4d577639a512f2a900367d7563c49234461"
      }
    }
  },
  "nbformat": 4,
  "nbformat_minor": 0
}
