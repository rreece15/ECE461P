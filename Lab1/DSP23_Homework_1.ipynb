{
 "cells": [
  {
   "cell_type": "markdown",
   "metadata": {
    "id": "QDMxPNTM-8Ew"
   },
   "source": [
    "## EE 461P: Data Science Principles  \n",
    "### Assignment 1  \n",
    "### Total points: 75\n",
    "### Due: Tuesday, January 31, 2023, submitted via Canvas by 11:59 pm  \n",
    "\n",
    "Your homework should be written in a **Jupyter notebook**. You may work in groups of two if you wish. Only one student per team needs to submit the assignment on Canvas.  But be sure to include name and UT eID for both students.  Homework groups will be created and managed through Canvas, so please do not arbitrarily change your homework group. If you do change, let the TAs know.\n",
    "\n",
    "Also, please make sure your code runs and the graphics (and anything else) are displayed in your notebook before submitting. (%matplotlib inline)\n",
    "\n",
    "### Name(s) and EID(s):\n",
    "1. Reece Riherd, rdr2793\n",
    "2. Blake Schwartz, bps826"
   ]
  },
  {
   "cell_type": "markdown",
   "metadata": {
    "id": "2l4ZpGDS0bVI"
   },
   "source": [
    "# Question 1 (5 points)\n",
    "\n",
    "Read [this](https://www.covid-datascience.com/post/israeli-data-how-can-efficacy-vs-severe-disease-be-strong-when-60-of-hospitalized-are-vaccinated) article that talks about the possibility of vaccines being uneffective in Israel since nearly 60% of severe COVID-19 hospitalization in Israel were vaccinated people. Use Simpson's Paradox to briefly explain if this claim holds true.\n"
   ]
  },
  {
   "cell_type": "markdown",
   "metadata": {
    "id": "qaijrS9q8_go"
   },
   "source": [
    "# Answer 1\n",
    "\n",
    "Simpson's paradox occurs when data analysis leads to an incorrect conclusion when looking at the data holistically instead of stratifying the data by a certain feature. When applying Simpson's Paradox to the claim that vaccines are ineffective in Israel, the claim is refuted by the reversal of the trend when data among specific age groups is compared. Although vaccines only show 67.5% efficacy when analyzed with every age group, efffectiveness is consistently shown in the range of 88.7% and 100% for most age groups when analyzed individually. This, in combination with factors that influence the disparity of severe Covid cases like age disparity, high rates of vaccination, and a higher likelihood to vaccinate in older generations, creates confusion in the interpretation of the data. The apparency of the effectiveness of vaccination is diminished by these external factors, but when these factors are separated (such as by age groups), the effectiveness of vaccination is obvious, thus showing a clear example of Simpson's Paradox."
   ]
  },
  {
   "cell_type": "markdown",
   "metadata": {
    "id": "NNBbUfy9Fxqg"
   },
   "source": [
    "# Question 2 (10 points)\n",
    "\n",
    "100 students in the previous offering of this class were asked if they wanted to form their own groups for the course project or have the instructor randomize the groups. They reported their preferences by entering Yes or No in the survey. We use 0 to represent preferring their own groups and 1 to represent randomized groups. A random sample of 20 students yielded the following preferences:\n",
    "\n",
    "$$1 0 1 1 0 1 0 1 1 1 0 1 1 0 1 0 0 1 1 1$$\n",
    "\n",
    "These choices are assumed to arise by independent and identically distributed (i.i.d.) sampling from the following distribution and if the unknown parameter $q$ can be estimated, then we can provide more insights about the students' preference regrading the project groups.\n",
    "\n",
    "$$\n",
    "\\begin{equation}\n",
    "\\nonumber P(x) = \\left\\{\n",
    "\\begin{array}{l l}\n",
    "    q& \\quad \\text{for  } x=0\\\\\n",
    "1-q & \\quad \\text{for } x=1\n",
    "\\end{array} \\right.\n",
    "\\end{equation}\n",
    "$$\n",
    "\n",
    "Based on the definitions given above, identify the likelihood function and derive the **maximum likelihood estimator** of $q$. Using the given sample, find a maximum likelihood estimate of $q$ as well."
   ]
  },
  {
   "cell_type": "markdown",
   "metadata": {
    "id": "LJ_Kz4VN9Dus"
   },
   "source": [
    "# Answer 2\n",
    "\n",
    "To find the maximum likelihood estimator of a Bernoulli variable, we first take the definition of the likelihood function to obtain\n",
    "$$\n",
    "\\begin{aligned}\n",
    "L(\\theta)=\\prod_{n=1}^{N}{P_{X_{n}}{(x_{n};q)}}\\\\\\\n",
    "\\end{aligned}\n",
    "$$\n",
    "then, setting our data set\n",
    "$$\n",
    "\\begin{aligned} D={x_{1},...,x_{N}}\n",
    "\\end{aligned}\n",
    "$$\n",
    "We have\n",
    "$$\n",
    "\\begin{aligned}\n",
    "p(D|\\mu)=\\prod_{n=1}^{N}{p{(x_{n}|\\mu)}}\\\\\\\n",
    "=\\prod_{n=1}^{N}{\\mu^{x_{n}}(1-\\mu)^{1-x_{n}}}\n",
    "\\end{aligned}\n",
    "$$\n",
    "\n",
    "Taking the logarithm of the likelihood, we have\n",
    "$$\n",
    "\\begin{aligned}\n",
    "ln (p(D|\\mu))=\\sum_{n=1}^{N}{ln(p{(x_{n}|\\mu)})}\\\\\\\n",
    "=\\sum_{n=1}^{N}{x_{n}ln(\\mu)+(1-x_{n})ln(1-\\mu)}\n",
    "\\end{aligned}\n",
    "$$\n",
    "Now,\n",
    "$$\n",
    "\\begin{aligned}\n",
    "\\frac{d(ln p(D|\\mu))}{d\\mu}[\\sum_{n=1}^{N}{ln(p{(x_{n}|\\mu)})}]=0\\\\\\\n",
    "\\rightarrow \\mu_{ML}=\\frac{1}{N}\\sum_{n=1}^{N}{x_{n}}\n",
    "\\end{aligned}\n",
    "$$\n",
    "\n",
    "Then, since there are N=20 students and there are 13 values equal to 1, the value of this equation, and the maximum likelihood estimate of q, is 13/20=0.65.\n"
   ]
  },
  {
   "cell_type": "markdown",
   "metadata": {
    "id": "yHBVQzeVPs02"
   },
   "source": [
    "# Question 3 (5+5 points)\n",
    "\n",
    "a) Briefly explain what you understand by an estimator of a numeric quantity being unbiased? Show that the MLE for the variance of a Gaussian is biased.\n",
    "\n",
    "b) Suppose the mean of the Gaussian distribution, $\\mu$. So given a data set assumed to be obtained by sampling i.i.d from this Gaussian, your job is to obtain the MLE for the unknown variance. Derive the equation for this estimate and show that it is unbiased."
   ]
  },
  {
   "cell_type": "markdown",
   "metadata": {
    "id": "UovxZfi8Pt7N"
   },
   "source": [
    "# Answer 3\n"
   ]
  },
  {
   "cell_type": "markdown",
   "metadata": {},
   "source": [
    "a.)\n",
    "\n",
    "An estimator is considered to be unbiased if the mean of the sampling distribution of the estimator is equal (or approximately equal) to the true parameter value of the estimator. \n",
    "\n",
    "Then, finding the expected value of the variance estimator, we have\n",
    "\n",
    "$$\n",
    "\\begin{aligned}\n",
    "E[\\sigma^{2}]=E[\\frac{1}{N}\\sum_{i=1}^{N}{(y_{n}-\\hat{\\mu}_{mle})^{2}}]\\\\\\\n",
    "=\\frac{1}{N}E[\\sum_{i=1}^{N}{y_{i}^{2}}-2\\sum_{i=1}^{N}{y_{i}\\bar{y}}+\\sum_{i=1}^{N}{\\bar{y}^{2}}]\\\\\\\n",
    "=\\frac{1}{N}E[\\sum_{i=1}^{N}{y_{i}^{2}-2N\\bar{y}^{2}+N\\bar{y}^{2}}]\\\\\\\n",
    "=\\frac{1}{N}E[\\sum_{i=1}^{N}{y_{i}^{2}-N\\bar{y}^{2}}]\\\\\\\n",
    "=\\frac{1}{N}E[\\sum_{i=1}^{N}{y_{i}^{2}}]-E[\\bar{y}^{2}]\\\\\\\n",
    "=E[{y^{2}}]-E[\\bar{y}^{2}]\\\\\\\n",
    "\\end{aligned}\n",
    "$$\n",
    "\n",
    "and, since \n",
    "$$\n",
    "\\begin{aligned}\n",
    "\\sigma_{y}^{2}=E[y^{2}]-E[y]^{2}\n",
    "\\end{aligned}\n",
    "$$\n",
    "and\n",
    "$$\n",
    "\\begin{aligned}\n",
    "E[y]=E[\\bar{y}]=\\mu\n",
    "\\end{aligned}\n",
    "$$\n",
    "we have\n",
    "$$\n",
    "\\begin{aligned}\n",
    "E[\\sigma^{2}]=(\\sigma_{y}^{2}+\\mu^{2})-(\\sigma_{\\bar{y}}^{2}+\\mu^{2})\\\\\\\n",
    "=\\sigma_{y}^{2}-\\sigma_{\\bar{y}}^{2}\n",
    "\\end{aligned}\n",
    "$$\n",
    "Now, we can find the following\n",
    "$$\n",
    "\\begin{aligned}\n",
    "\\sigma_{\\bar{y}}^{2}=Var[\\bar{y}]=\\frac{1}{N^{2}}Var[\\sum_{i=1}^{N}{y_{i}}]\\\\\\\n",
    "\\end{aligned}\n",
    "$$\n",
    "where\n",
    "$$\n",
    "\\begin{aligned}\n",
    "Var[\\sum_{i=1}^{N}{y_{i}}]=\\sum_{i=1}^{N}{Var[y]}=N*Var[y]\\\\\\\n",
    "\\end{aligned}\n",
    "$$\n",
    "so,\n",
    "$$\n",
    "\\begin{aligned}\n",
    "\\sigma_{\\bar{y}}^{2}=\\frac{1}{N}Var[y]=\\frac{1}{N}\\sigma_{y}^{2}\\\\\\\n",
    "\\end{aligned}\n",
    "$$\n",
    "and\n",
    "$$\n",
    "\\begin{aligned}\n",
    "E[\\sigma^{2}]=\\frac{N-1}{N}\\sigma_{y}^{2}\\\\\\\n",
    "\\end{aligned}\n",
    "$$\n",
    "Therefore,\n",
    "$$\n",
    "\\begin{aligned}\n",
    "E[\\sigma^{2}]\\neq\\sigma_{y}^{2}\\\\\\\n",
    "\\end{aligned}\n",
    "$$\n",
    "and the MLE for the variance of a Gaussian is biased.\n"
   ]
  },
  {
   "attachments": {},
   "cell_type": "markdown",
   "metadata": {},
   "source": [
    "b.)\n",
    "$$\n",
    "\\begin{aligned}\n",
    "l = \\prod_{i=1}^{N}{\\mathcal{N}({x_n|\\mu,\\sigma^2})}\\\\\\\n",
    "= \\sum_{i=1}^{N}{\\ln(\\mathcal{N}({x_n|\\mu,\\sigma^2})}\\\\\\\n",
    "=\\sum_{i=1}^{N}{\\ln{\\frac{1}{\\sqrt{2\\pi\\sigma^2}}}e^{-(x_i-\\mu)/(2\\sigma^2)}}\\\\\\\n",
    "=\\sum_{i=1}^{N}{(\\ln{(2\\pi\\sigma^2)^\\frac{1}{2}+\\ln{e^{-\\frac{(x_i-\\mu)^2}{2\\sigma^2}}})}}\\\\\\\n",
    "=\\sum_{i=1}^{N}{(-\\frac{1}{2}\\ln{(2\\pi\\sigma^2)}-\\frac{(x_i-\\mu)^2}{2\\sigma^2})}\\\\\\\n",
    "=-\\frac{n}{2}\\ln{2\\pi\\sigma^2}-\\frac{1}{2\\sigma^2}\\sum_{i=1}^{N}{(x_i-\\mu)^2}\\\\\\\n",
    "\\frac{\\partial l}{\\partial \\sigma}=\\frac{\\partial l}{\\partial \\sigma}(-\\frac{n}{2}\\ln{2\\pi\\sigma^2}-\\frac{1}{2\\sigma^2}\\sum_{i=1}^{N}{(x_i-\\mu)^2})\\\\\\\n",
    "=\\frac{-n}{2}*\\frac{1}{2\\pi\\sigma^2}*4\\pi\\sigma+\\frac{1}{\\sigma^3}\\sum_{i=1}^{N}{(x_i-\\mu)^2}\\\\\\\n",
    "=-\\frac{n}{\\sigma}+\\frac{1}{\\sigma^3}\\sum_{i=1}^{N}{(x_i-\\mu)^2}\\\\\\\n",
    "n\\sigma^2=\\sum_{i=1}^{N}{(x_i-\\mu)^2}\\\\\\\n",
    "\\sigma^2=\\frac{1}{n}\\sum_{i=1}{N}{(x_i-\\mu)^2}\n",
    "\\end{aligned}\n",
    "$$\n",
    "Where this value is unbiased, since \n",
    "$$\n",
    "\\begin{aligned}\n",
    "E[\\sigma^{2}]=\\sigma^{2}\\\\\\\n",
    "\\end{aligned}\n",
    "$$"
   ]
  },
  {
   "cell_type": "markdown",
   "metadata": {
    "id": "pqV_7myxCupC"
   },
   "source": [
    "# Question 4 (5+5 points)\n",
    "\n",
    "a) What is multicollinearity in the context of linear regression and why is it problematic?\n",
    "\n",
    "b) How do you diagnose and fix multicollinearity?\n"
   ]
  },
  {
   "cell_type": "markdown",
   "metadata": {
    "id": "U2a5wCF9C7Vw"
   },
   "source": [
    "# Answer 4"
   ]
  },
  {
   "cell_type": "markdown",
   "metadata": {},
   "source": [
    "a.)\n",
    "Multicollinearity occurs when multiple features of a regression model are correlated with each other, or when those variables are linearly related. This is problematic because multicollinearity makes the results of the model difficult to interpret since they could have been a result of multiple features either individually or together. It can also cause an unstable model that varies significantly given small changes in the data or model, and can result in overfitting, or a decrease in accuracy when applied to another set of data."
   ]
  },
  {
   "cell_type": "markdown",
   "metadata": {},
   "source": [
    "b.)\n",
    "It is possible to detect multicollinearity through the correlation matrix of independent variables. Independent values that are highly correlated with each other in this matrix could be a cause for multicollinearity.\n",
    "\n",
    "Then, to fix the isue of multicollinearity, the variables which more significantly effect the output of the model can be isolated to reduce the effects of multicollinearity. Then, if the problem still persists, variable transformation could reduce the correlation of the features with each other by changing the presentation or range of the data (for example removing the any data taken from the current month)."
   ]
  },
  {
   "cell_type": "markdown",
   "metadata": {
    "id": "Y8M2y37dATTO"
   },
   "source": [
    "# Question 5 : Regression (40 points)\n"
   ]
  },
  {
   "cell_type": "markdown",
   "metadata": {
    "id": "JIeme-FoAWxH"
   },
   "source": [
    "### 5.1 Generate Data (5 points)\n",
    "Generate a synthetic regression dataset using make_regression from [sklearn.datasets](https://scikit-learn.org/stable/modules/generated/sklearn.datasets.make_regression.html) with the following characteristics :\n",
    "n_samples = 20000, n_features = 20, n_informative = 15, n_targets = 1, coef = True and random_state = 42, bias = True, noise = 0.1.\n",
    "\n",
    "**Reading Assignment** : Read about how this data is generated and the affect of the above mentioned parameters on the data. "
   ]
  },
  {
   "cell_type": "code",
   "execution_count": 108,
   "metadata": {
    "id": "TYOT8DJcAX7q"
   },
   "outputs": [],
   "source": [
    "import pandas as pd\n",
    "from matplotlib import pyplot\n",
    "from sklearn.datasets import make_regression\n",
    "import numpy as np\n",
    "from sklearn.model_selection import train_test_split\n",
    "from sklearn.linear_model import LinearRegression\n",
    "from sklearn.linear_model import Ridge\n",
    "from sklearn.linear_model import Lasso\n",
    "from sklearn.metrics import mean_squared_error\n",
    "\n",
    "\n",
    "x,y,coef = make_regression(n_samples=20000, n_features=20, n_informative=15, n_targets=1, bias=True, noise=0.1, coef=True, random_state=42)\n",
    "\n",
    "# pyplot.scatter(x,y)\n",
    "# pyplot.show()"
   ]
  },
  {
   "cell_type": "markdown",
   "metadata": {
    "id": "HI4XeUtjAYgc"
   },
   "source": [
    "### 5.2 Perform Regression (10 points)\n",
    "a) Divide the above obtained data into a train/test split by using 20% of the data for testing. Then train a linear regression model using Ordinary Least Squares method from [sklearn](https://scikit-learn.org/stable/modules/linear_model.html). \n",
    "\n",
    "b) Evaluate the trained model using Mean Squared Error on both train and test datasets and report the performance. \n",
    "\n",
    "c) Also, print the coefficients and bias obtained after the fit and compare them with the coefficients and bias that were used for generating the data in 5.1. "
   ]
  },
  {
   "cell_type": "code",
   "execution_count": 109,
   "metadata": {
    "id": "0joZZhB_AbR3"
   },
   "outputs": [
    {
     "data": {
      "text/plain": [
       "LinearRegression()"
      ]
     },
     "execution_count": 109,
     "metadata": {},
     "output_type": "execute_result"
    }
   ],
   "source": [
    "# a.)\n",
    "x_train, x_test, y_train, y_test = train_test_split(x,y, test_size=0.2, random_state=42)\n",
    "# print(len(x_train))\n",
    "# print(len(y_train))\n",
    "\n",
    "# result = sm.OLS(y_train, x_train).fit()\n",
    "# print(result)\n",
    "# print(result.summary())\n",
    "\n",
    "model = LinearRegression()\n",
    "model.fit(x_train, y_train)\n",
    "\n"
   ]
  },
  {
   "cell_type": "code",
   "execution_count": 110,
   "metadata": {},
   "outputs": [
    {
     "name": "stdout",
     "output_type": "stream",
     "text": [
      "Mean squared error of test: 0.010471\n",
      "Mean squared error of train: 0.009975\n"
     ]
    }
   ],
   "source": [
    "# b.)\n",
    "y_pred = model.predict(x_test)\n",
    "y_pred2 = model.predict(x_train)\n",
    "\n",
    "\n",
    "print(\"Mean squared error of test: %f\" % mean_squared_error(y_test, y_pred))\n",
    "print(\"Mean squared error of train: %f\" % mean_squared_error(y_train, y_pred2))"
   ]
  },
  {
   "cell_type": "code",
   "execution_count": 111,
   "metadata": {},
   "outputs": [
    {
     "name": "stdout",
     "output_type": "stream",
     "text": [
      "Coefficients when generating data: \n",
      " [49.75788258 90.83665798 25.02841944  0.          4.60361603 30.85350704\n",
      "  0.         93.84635499 56.30241747 65.6311587  17.00530636  0.\n",
      " 31.35960057  0.         60.7651503  54.96244433 28.80887553  0.\n",
      " 87.80872023 96.00842932]\n",
      "Coefficients after fitting the data: \n",
      " [ 4.97568103e+01  9.08349608e+01  2.50288380e+01 -5.34098116e-05\n",
      "  4.60368487e+00  3.08548793e+01  9.58574094e-04  9.38474589e+01\n",
      "  5.63027054e+01  6.56306844e+01  1.70049794e+01  1.37272463e-03\n",
      "  3.13598926e+01  7.87077400e-04  6.07646643e+01  5.49635451e+01\n",
      "  2.88097930e+01  1.50933877e-04  8.78089100e+01  9.60072744e+01]\n",
      "Bias when generating the data was True, or 1.\n",
      "Bias after fitting the data was 0.9995602406110253\n"
     ]
    }
   ],
   "source": [
    "# c.)\n",
    "print(\"Coefficients when generating data: \\n\", coef)\n",
    "print(\"Coefficients after fitting the data: \\n\", model.coef_)\n",
    "print(\"Bias when generating the data was True, or 1.\")\n",
    "print(\"Bias after fitting the data was\", model.intercept_)"
   ]
  },
  {
   "cell_type": "markdown",
   "metadata": {
    "id": "HgzF7qSSAbf5"
   },
   "source": [
    "### 5.3 Residuals (5 points)\n",
    "a) Compute the residuals (difference between predicted and original values)  of the trained model on the test data. Compute and show the mean and variance of the residuals. \n",
    "\n",
    "b) Scatter plot the residuals along with true predictions and observe how are the residuals distributed.\n",
    "\n",
    "(BONUS) How do the above observations relate to one of the asumptions behind the MLR model? (5 points)"
   ]
  },
  {
   "cell_type": "code",
   "execution_count": 112,
   "metadata": {
    "id": "xujyYrCEAd1x"
   },
   "outputs": [
    {
     "name": "stdout",
     "output_type": "stream",
     "text": [
      "mean is 0.08195903246928546\n",
      "variance is 0.003754117994819662\n"
     ]
    }
   ],
   "source": [
    "# a.)\n",
    "\n",
    "residuals = y_test - y_pred\n",
    "mean = np.mean(np.abs(residuals))\n",
    "variance = np.var(np.abs(residuals))\n",
    "print(\"mean is\", mean)\n",
    "print(\"variance is\", variance)"
   ]
  },
  {
   "cell_type": "code",
   "execution_count": 113,
   "metadata": {},
   "outputs": [
    {
     "data": {
      "image/png": "[encoded data removed]",
      "text/plain": [
       "<Figure size 432x288 with 1 Axes>"
      ]
     },
     "metadata": {
      "needs_background": "light"
     },
     "output_type": "display_data"
    }
   ],
   "source": [
    "# b.)\n",
    "# I don't know if this is right? Should we be plotting against x?\n",
    "# pyplot.scatter(y_test, y_pred, label=\"True Predictions\")\n",
    "pyplot.scatter(y_test, residuals, label=\"Residuals\")\n",
    "# pyplot.legend(loc=\"upper left\")\n",
    "pyplot.title(\"Residuals and Predictions of the Trained Model\")\n",
    "pyplot.xlabel(\"Y Test Values\")\n",
    "pyplot.ylabel(\"Residuals\")\n",
    "pyplot.show()"
   ]
  },
  {
   "cell_type": "markdown",
   "metadata": {},
   "source": [
    "### Bonus\n",
    "This is related to the assumption that deviations of the error term are normally distributed, independent from each other and identically distributed, since the residuals are related to the error term (residuals being compared to sample data rather than real data). From the points on the scatter plot, it is easy to see that the residuals are normally distributed (with data points being condense around the center and more sparse on the edges), independent from each other (each point on the graph represents a different original iid data point), and identically distributed (the residuals have constant variance, as reflected in the residuals centering around a value of 0, approximately the calculated variance for the residuals, for all of the test values)."
   ]
  },
  {
   "cell_type": "markdown",
   "metadata": {
    "id": "qJPQpojJAeAa"
   },
   "source": [
    "### 5.4 Lasso and Ridge Regression (10 points)\n",
    "\n",
    "a) Run Lasso and Ridge regression on the data generated in 5.1 by varying the parameter alpha from 10^-3 to 10^3. For each value of the alpha, store the train error (MSE), test error (MSE), and norm of the coefficient vector using [numpy.linalg.norm](https://numpy.org/doc/stable/reference/generated/numpy.linalg.norm.html).\n",
    "\n",
    "b) Plot the train error, test error and the norm of the coefficient vector with increasing alpha and note what you observe. Use one plot for train error and test error and another for the norm.\n"
   ]
  },
  {
   "cell_type": "code",
   "execution_count": 114,
   "metadata": {
    "id": "LDT3C9W7j4QW"
   },
   "outputs": [],
   "source": [
    "# a.)\n",
    "alpha = []\n",
    "ridge_trainMSE = []\n",
    "ridge_testMSE = []\n",
    "lasso_trainMSE = []\n",
    "lasso_testMSE = []\n",
    "\n",
    "rcoefficient_norm = []\n",
    "lcoefficient_norm = []\n",
    "x = -3\n",
    "while x < 3:\n",
    "    alpha.append(x)\n",
    "\n",
    "    ridge = Ridge(alpha=10**x, normalize=True)\n",
    "    ridge.fit(x_train, y_train)\n",
    "    ridge_pred = ridge.predict(x_test)\n",
    "    ridge_pred1 = ridge.predict(x_train)\n",
    "    # print(ridge_pred)\n",
    "    ridge_trainMSE.append(mean_squared_error(ridge_pred1, y_train)) # print(\"ridge training error is\", mean_squared_error(ridge_pred1, y_train))\n",
    "    ridge_testMSE.append(mean_squared_error(ridge_pred, y_test)) # print(\"ridge testing error is\", mean_squared_error(ridge_pred, y_test))\n",
    "\n",
    "    rcoefficient_norm.append(np.linalg.norm(ridge.coef_))\n",
    "    #print(\"ridge train error is\", mean_squared_error(ridge_pred, y_pred)))\n",
    "\n",
    "    lasso = Lasso(alpha=10**x, normalize=True)\n",
    "    lasso.fit(x_train, y_train)\n",
    "    lasso_pred = lasso.predict(x_test)\n",
    "    lasso_pred1 = lasso.predict(x_train)\n",
    "\n",
    "    lasso_trainMSE.append(mean_squared_error(lasso_pred1, y_train))\n",
    "    lasso_testMSE.append(mean_squared_error(lasso_pred, y_test))\n",
    "\n",
    "    # print(\"lasso training error is\", mean_squared_error(lasso_pred1, y_train))\n",
    "    # print(\"lasso testing error is\", mean_squared_error(lasso_pred, y_test))\n",
    "\n",
    "    lcoefficient_norm.append(np.linalg.norm(lasso.coef_))\n",
    "    x = x + 0.01\n",
    "\n",
    "\n"
   ]
  },
  {
   "cell_type": "code",
   "execution_count": 117,
   "metadata": {},
   "outputs": [
    {
     "data": {
      "image/png": "[encoded data removed]",
      "text/plain": [
       "<Figure size 432x288 with 1 Axes>"
      ]
     },
     "metadata": {
      "needs_background": "light"
     },
     "output_type": "display_data"
    },
    {
     "data": {
      "image/png": "[encoded data removed]",
      "text/plain": [
       "<Figure size 432x288 with 1 Axes>"
      ]
     },
     "metadata": {
      "needs_background": "light"
     },
     "output_type": "display_data"
    },
    {
     "data": {
      "image/png": "[encoded data removed]",
      "text/plain": [
       "<Figure size 432x288 with 1 Axes>"
      ]
     },
     "metadata": {
      "needs_background": "light"
     },
     "output_type": "display_data"
    }
   ],
   "source": [
    "# b.)\n",
    "\n",
    "pyplot.scatter(alpha, ridge_trainMSE, label=\"Training Error\")\n",
    "pyplot.scatter(alpha, ridge_testMSE, label=\"Testing Error\")\n",
    "\n",
    "pyplot.legend(loc=\"upper left\")\n",
    "pyplot.title(\"Ridge Regression\")\n",
    "pyplot.xlabel(\"Alpha (10^x)\")\n",
    "pyplot.ylabel(\"Ridge Error\")\n",
    "pyplot.show()\n",
    "\n",
    "pyplot.scatter(alpha, lasso_trainMSE, label=\"Training Error\")\n",
    "pyplot.scatter(alpha, lasso_testMSE, label=\"Testing Error\")\n",
    "\n",
    "pyplot.legend(loc=\"upper left\")\n",
    "pyplot.title(\"Lasso Regression\")\n",
    "pyplot.xlabel(\"Alpha (10^x)\")\n",
    "pyplot.ylabel(\"Lasso Error\")\n",
    "pyplot.show()\n",
    "\n",
    "pyplot.scatter(alpha, rcoefficient_norm, label=\"Ridge Norm\")\n",
    "pyplot.scatter(alpha, lcoefficient_norm, label=\"Lasso Norm\")\n",
    "pyplot.legend(loc=\"lower left\")\n",
    "pyplot.title(\"Norm of the Coefficient Vector\")\n",
    "pyplot.xlabel(\"Alpha (10^x)\")\n",
    "pyplot.ylabel(\"Coefficient Norm\")\n",
    "pyplot.show()"
   ]
  },
  {
   "cell_type": "markdown",
   "metadata": {
    "id": "iWbeD15fRXdl"
   },
   "source": [
    "### 5.5 Real-world Regression Problem (10 points)\n",
    "\n",
    "The dataset in the file ecommerce_dataset.csv is for an ecommerce business trying to predict the annual amount spent by each customer. Use Lasso and Ridge regression on the set of independent variables {Average Session Length, Time on App, Time on Website, Length of Membership}  to predict the dependent variable **Yearly Amount Spent**. Vary the value of alpha in the range 10^-6 to 10^5 and do 5-fold cross-validation using sklearn's KFold to find the value of alpha that gives best performance as measured using MSE."
   ]
  },
  {
   "cell_type": "code",
   "execution_count": 20,
   "metadata": {
    "id": "snk9yvieSX5d"
   },
   "outputs": [
    {
     "data": {
      "text/html": [
       "<div>\n",
       "<style scoped>\n",
       "    .dataframe tbody tr th:only-of-type {\n",
       "        vertical-align: middle;\n",
       "    }\n",
       "\n",
       "    .dataframe tbody tr th {\n",
       "        vertical-align: top;\n",
       "    }\n",
       "\n",
       "    .dataframe thead th {\n",
       "        text-align: right;\n",
       "    }\n",
       "</style>\n",
       "<table border=\"1\" class=\"dataframe\">\n",
       "  <thead>\n",
       "    <tr style=\"text-align: right;\">\n",
       "      <th></th>\n",
       "      <th>Email</th>\n",
       "      <th>Address</th>\n",
       "      <th>Avatar</th>\n",
       "      <th>Average Session Length</th>\n",
       "      <th>Time on App</th>\n",
       "      <th>Time on Website</th>\n",
       "      <th>Length of Membership</th>\n",
       "      <th>Yearly Amount Spent</th>\n",
       "    </tr>\n",
       "  </thead>\n",
       "  <tbody>\n",
       "    <tr>\n",
       "      <th>0</th>\n",
       "      <td>mstephenson@fernandez.com</td>\n",
       "      <td>835 Frank Tunnel\\r\\nWrightmouth, MI 82180-9605</td>\n",
       "      <td>Violet</td>\n",
       "      <td>34.497268</td>\n",
       "      <td>12.655651</td>\n",
       "      <td>39.577668</td>\n",
       "      <td>4.082621</td>\n",
       "      <td>587.951054</td>\n",
       "    </tr>\n",
       "    <tr>\n",
       "      <th>1</th>\n",
       "      <td>hduke@hotmail.com</td>\n",
       "      <td>4547 Archer Common\\r\\nDiazchester, CA 06566-8576</td>\n",
       "      <td>DarkGreen</td>\n",
       "      <td>31.926272</td>\n",
       "      <td>11.109461</td>\n",
       "      <td>37.268959</td>\n",
       "      <td>2.664034</td>\n",
       "      <td>392.204933</td>\n",
       "    </tr>\n",
       "    <tr>\n",
       "      <th>2</th>\n",
       "      <td>pallen@yahoo.com</td>\n",
       "      <td>24645 Valerie Unions Suite 582\\r\\nCobbborough,...</td>\n",
       "      <td>Bisque</td>\n",
       "      <td>33.000915</td>\n",
       "      <td>11.330278</td>\n",
       "      <td>37.110597</td>\n",
       "      <td>4.104543</td>\n",
       "      <td>487.547505</td>\n",
       "    </tr>\n",
       "    <tr>\n",
       "      <th>3</th>\n",
       "      <td>riverarebecca@gmail.com</td>\n",
       "      <td>1414 David Throughway\\r\\nPort Jason, OH 22070-...</td>\n",
       "      <td>SaddleBrown</td>\n",
       "      <td>34.305557</td>\n",
       "      <td>13.717514</td>\n",
       "      <td>36.721283</td>\n",
       "      <td>3.120179</td>\n",
       "      <td>581.852344</td>\n",
       "    </tr>\n",
       "    <tr>\n",
       "      <th>4</th>\n",
       "      <td>mstephens@davidson-herman.com</td>\n",
       "      <td>14023 Rodriguez Passage\\r\\nPort Jacobville, PR...</td>\n",
       "      <td>MediumAquaMarine</td>\n",
       "      <td>33.330673</td>\n",
       "      <td>12.795189</td>\n",
       "      <td>37.536653</td>\n",
       "      <td>4.446308</td>\n",
       "      <td>599.406092</td>\n",
       "    </tr>\n",
       "  </tbody>\n",
       "</table>\n",
       "</div>"
      ],
      "text/plain": [
       "                           Email  \\\n",
       "0      mstephenson@fernandez.com   \n",
       "1              hduke@hotmail.com   \n",
       "2               pallen@yahoo.com   \n",
       "3        riverarebecca@gmail.com   \n",
       "4  mstephens@davidson-herman.com   \n",
       "\n",
       "                                             Address            Avatar  \\\n",
       "0     835 Frank Tunnel\\r\\nWrightmouth, MI 82180-9605            Violet   \n",
       "1   4547 Archer Common\\r\\nDiazchester, CA 06566-8576         DarkGreen   \n",
       "2  24645 Valerie Unions Suite 582\\r\\nCobbborough,...            Bisque   \n",
       "3  1414 David Throughway\\r\\nPort Jason, OH 22070-...       SaddleBrown   \n",
       "4  14023 Rodriguez Passage\\r\\nPort Jacobville, PR...  MediumAquaMarine   \n",
       "\n",
       "   Average Session Length  Time on App  Time on Website  Length of Membership  \\\n",
       "0               34.497268    12.655651        39.577668              4.082621   \n",
       "1               31.926272    11.109461        37.268959              2.664034   \n",
       "2               33.000915    11.330278        37.110597              4.104543   \n",
       "3               34.305557    13.717514        36.721283              3.120179   \n",
       "4               33.330673    12.795189        37.536653              4.446308   \n",
       "\n",
       "   Yearly Amount Spent  \n",
       "0           587.951054  \n",
       "1           392.204933  \n",
       "2           487.547505  \n",
       "3           581.852344  \n",
       "4           599.406092  "
      ]
     },
     "execution_count": 20,
     "metadata": {},
     "output_type": "execute_result"
    }
   ],
   "source": [
    "ecommerce_df = pd.read_csv(r\"C:\\Users\\reece\\OneDrive\\Documents\\GitHub\\noname\\ECE461P\\Lab1\\ecommerce_dataset.csv\")\n",
    "ecommerce_df.head()"
   ]
  },
  {
   "cell_type": "code",
   "execution_count": 132,
   "metadata": {},
   "outputs": [],
   "source": [
    "X = [ecommerce_df.loc[:,\"Average Session Length\"],ecommerce_df.loc[:,\"Time on App\"],ecommerce_df.loc[:,\"Time on Website\"],ecommerce_df.loc[:,\"Length of Membership\"]]\n",
    "Y = np.array(ecommerce_df.loc[:,\"Yearly Amount Spent\"])\n",
    "alphas = [10**-6, 10**-5, 10**-4, 10**-3, 10**-2, 10**-1, 10, 10**2, 10**3, 10**4, 10**5]"
   ]
  },
  {
   "cell_type": "code",
   "execution_count": 140,
   "metadata": {},
   "outputs": [],
   "source": [
    "\n",
    "X = ecommerce_df.loc[:,[\"Average Session Length\",\"Time on App\",\"Time on Website\",\"Length of Membership\"]]"
   ]
  },
  {
   "cell_type": "code",
   "execution_count": 135,
   "metadata": {},
   "outputs": [
    {
     "name": "stdout",
     "output_type": "stream",
     "text": [
      "alpha is 1e-06\n",
      " MSE for all folds of ridge [ -93.6784091  -101.86207766  -91.11389018 -103.11382079 -112.51939142]\n",
      " MSE for all folds of lasso [ -93.67840576 -101.86207772  -91.11388718 -103.11382389 -112.51939794]\n",
      "alpha is 1e-05\n",
      " MSE for all folds of ridge [ -93.67840449 -101.86207611  -91.1138881  -103.11381933 -112.51940078]\n",
      " MSE for all folds of lasso [ -93.6783531  -101.86207741  -91.11386007 -103.11384209 -112.51946507]\n",
      "alpha is 0.0001\n",
      " MSE for all folds of ridge [ -93.67835842 -101.86206063  -91.11386728 -103.11380472 -112.51949443]\n",
      " MSE for all folds of lasso [ -93.67792504 -101.86206417  -91.11352767 -103.11405645 -112.52014234]\n",
      "alpha is 0.001\n",
      " MSE for all folds of ridge [ -93.67789772 -101.86190582  -91.11365919 -103.11365864 -112.52043089]\n",
      " MSE for all folds of lasso [ -93.67266266 -101.86194253  -91.11020879 -103.11588134 -112.52685892]\n",
      "alpha is 0.01\n",
      " MSE for all folds of ridge [ -93.67329376 -101.86036078  -91.1115823  -103.11220155 -112.5297983 ]\n",
      " MSE for all folds of lasso [ -93.62040573 -101.86084526  -91.07752531 -103.13452561 -112.59436522]\n",
      "alpha is 0.1\n",
      " MSE for all folds of ridge [ -93.62755699 -101.84520793  -91.09121989 -103.09799642 -112.62375386]\n",
      " MSE for all folds of lasso [ -93.13452449 -101.87071116  -90.80121999 -103.36050483 -113.30348084]\n",
      "alpha is 10\n",
      " MSE for all folds of ridge [ -91.80624783 -103.32761053  -93.14446531 -105.40314307 -125.92942707]\n",
      " MSE for all folds of lasso [-339.53016144 -312.50736198 -473.27921095 -441.21432205 -436.78369075]\n",
      "alpha is 100\n",
      " MSE for all folds of ridge [-266.13900944 -301.7171014  -359.92664998 -351.67772745 -416.85308556]\n",
      " MSE for all folds of lasso [-5677.44437024 -5693.2401009  -7109.38110843 -6722.57264606\n",
      " -6356.93949454]\n",
      "alpha is 1000\n",
      " MSE for all folds of ridge [-2812.38090447 -2875.61362768 -3663.05425418 -3438.64878336\n",
      " -3320.87885307]\n",
      " MSE for all folds of lasso [-5677.44437024 -5693.2401009  -7109.38110843 -6722.57264606\n",
      " -6356.93949454]\n",
      "alpha is 10000\n",
      " MSE for all folds of ridge [-5226.33215369 -5252.19217909 -6578.59503169 -6213.56809594\n",
      " -5885.03811557]\n",
      " MSE for all folds of lasso [-5677.44437024 -5693.2401009  -7109.38110843 -6722.57264606\n",
      " -6356.93949454]\n",
      "alpha is 100000\n",
      " MSE for all folds of ridge [-5629.74056059 -5646.63727022 -7053.43345254 -6668.87025412\n",
      " -6307.1193666 ]\n",
      " MSE for all folds of lasso [-5677.44437024 -5693.2401009  -7109.38110843 -6722.57264606\n",
      " -6356.93949454]\n"
     ]
    }
   ],
   "source": [
    "from sklearn.linear_model import Ridge, RidgeCV, ElasticNet, Lasso, LassoCV, LassoLarsCV\n",
    "from sklearn.model_selection import cross_val_score, KFold\n",
    "\n",
    "for alpha in alphas:\n",
    "    print(\"alpha is\", alpha)\n",
    "    ridge = Ridge(alpha=alpha)\n",
    "    print(\" MSE for all folds of ridge\", cross_val_score(ridge, X, Y, cv=5, scoring=\"neg_mean_squared_error\"))\n",
    "\n",
    "    lasso = Lasso(alpha=alpha)\n",
    "    print(\" MSE for all folds of lasso\", cross_val_score(lasso, X, Y, cv=5, scoring=\"neg_mean_squared_error\"))"
   ]
  },
  {
   "cell_type": "code",
   "execution_count": 143,
   "metadata": {},
   "outputs": [
    {
     "name": "stdout",
     "output_type": "stream",
     "text": [
      "alpha of 1e-06 gives\n",
      "average ridge mse is 100.45751454770532\n",
      "average lasso mse is 100.45752687377312\n",
      "alpha of 1e-05 gives\n",
      "average ridge mse is 100.45748546430812\n",
      "average lasso mse is 100.45754183865989\n",
      "alpha of 0.0001 gives\n",
      "average ridge mse is 100.45724624857952\n",
      "average lasso mse is 100.45749087537453\n",
      "alpha of 0.001 gives\n",
      "average ridge mse is 100.4600059399479\n",
      "average lasso mse is 100.45841882823217\n",
      "alpha of 0.01 gives\n",
      "average ridge mse is 100.9929555147703\n",
      "average lasso mse is 100.5769509572521\n",
      "alpha of 0.1 gives\n",
      "average ridge mse is 148.29432550757733\n",
      "average lasso mse is 112.12416105887719\n",
      "alpha of 10 gives\n",
      "average ridge mse is 5197.236024651043\n",
      "average lasso mse is 6311.9155440353625\n",
      "alpha of 100 gives\n",
      "average ridge mse is 6184.735899150394\n",
      "average lasso mse is 6311.9155440353625\n",
      "alpha of 1000 gives\n",
      "average ridge mse is 6299.018650007454\n",
      "average lasso mse is 6311.9155440353625\n",
      "alpha of 10000 gives\n",
      "average ridge mse is 6310.624040660879\n",
      "average lasso mse is 6311.9155440353625\n",
      "alpha of 100000 gives\n",
      "average ridge mse is 6311.786375533198\n",
      "average lasso mse is 6311.9155440353625\n"
     ]
    }
   ],
   "source": [
    "\n",
    "\n",
    "kf = KFold(n_splits=5, random_state=None)\n",
    "# alpha = -6\n",
    "for alpha in alphas:\n",
    "# while alpha <= 5:\n",
    "    print(f\"alpha of {alpha} gives\")\n",
    "    ridge = Ridge(alpha=alpha, normalize=True)\n",
    "    lasso = Lasso(alpha=alpha, normalize=True)\n",
    "    fold = 1\n",
    "    ridge_mse = []\n",
    "    lasso_mse = []\n",
    "    for train_index, test_index in kf.split(X):\n",
    "        # print(f\"fold {fold}\")\n",
    "        X_train, X_test = X.iloc[train_index,:],X.iloc[test_index,:]\n",
    "        Y_train, Y_test = Y[train_index], Y[test_index]\n",
    "        # print(Y_train.shape)\n",
    "        ridge.fit(X_train, Y_train)\n",
    "        # print(X_train.shape)\n",
    "        # print(X_test.shape)\n",
    "        #X_test = X_test.transpose()\n",
    "        ridge_pred = ridge.predict(X_test)\n",
    "\n",
    "        lasso.fit(X_train, Y_train)\n",
    "        lasso_pred = lasso.predict(X_test)\n",
    "        ridge_mse.append(mean_squared_error(ridge_pred, Y_test))\n",
    "        lasso_mse.append(mean_squared_error(lasso_pred, Y_test))\n",
    "\n",
    "        if fold == 1 and 10**alpha == alphas[0]:\n",
    "            # pyplot.scatter(X_test,Y_test,label=\"Test Values\")\n",
    "            pyplot.scatter(Y_test,ridge_pred, label=\"Ridge\")\n",
    "            pyplot.scatter(Y_test,lasso_pred,label=\"Lasso\")\n",
    "            pyplot.legend(loc=\"upper left\")\n",
    "            pyplot.show()\n",
    "\n",
    "        # print(\"     ridge MSE of\", mean_squared_error(ridge_pred, Y_test))\n",
    "        # print(\"     lasso MSE of\", mean_squared_error(lasso_pred, Y_test))\n",
    "        fold = fold + 1\n",
    "    print(\"average ridge mse is\", sum(ridge_mse)/5)\n",
    "    print(\"average lasso mse is\", sum(lasso_mse)/5)\n",
    "    alpha = alpha + 1\n",
    "    \n"
   ]
  },
  {
   "attachments": {},
   "cell_type": "markdown",
   "metadata": {},
   "source": [
    "So, the best prediction is achieved with alpha=100"
   ]
  }
 ],
 "metadata": {
  "colab": {
   "collapsed_sections": [
    "QDMxPNTM-8Ew",
    "NNBbUfy9Fxqg",
    "yHBVQzeVPs02"
   ],
   "provenance": []
  },
  "kernelspec": {
   "display_name": "Python 3 (ipykernel)",
   "language": "python",
   "name": "python3"
  },
  "language_info": {
   "codemirror_mode": {
    "name": "ipython",
    "version": 3
   },
   "file_extension": ".py",
   "mimetype": "text/x-python",
   "name": "python",
   "nbconvert_exporter": "python",
   "pygments_lexer": "ipython3",
   "version": "3.8.3"
  },
  "vscode": {
   "interpreter": {
    "hash": "e8cfd1dbc86f0b534087d5775aced4d577639a512f2a900367d7563c49234461"
   }
  }
 },
 "nbformat": 4,
 "nbformat_minor": 4
}
