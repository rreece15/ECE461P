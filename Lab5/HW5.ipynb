{
  "cells": [
    {
      "attachments": {},
      "cell_type": "markdown",
      "metadata": {
        "id": "Zy_XFVgVckTk"
      },
      "source": [
        "## EE 461P: Data Science Principles  \n",
        "### Homework 5\n",
        "### Total points: 100 points \n",
        "### Due: 14th April, 11:59pm    \n",
        "\n",
        "Your homework should be written in a **Jupyter notebook**. You may work in groups of two if you wish. Only one student per team needs to submit the assignment on Canvas.  But be sure to include name and UT eID for both students.  Homework groups will be created and managed through Canvas, so please do not arbitrarily change your homework group. If you do change, let the TAs know.\n",
        "\n",
        "Also, please make sure your code runs and the graphics (and anything else) are displayed in your notebook before submitting. (%matplotlib inline)\n",
        "\n",
        "### Name(s) and EID(s):\n",
        "1. Reece Riherd, rdr2793\n",
        "2. \n",
        "\n",
        "### Homework group No.: 50"
      ]
    },
    {
      "cell_type": "markdown",
      "metadata": {
        "id": "AmLndaMeDwrb"
      },
      "source": [
        "# Question 1: Bayesian Belief Networks [15 pts]\n",
        "\n"
      ]
    },
    {
      "cell_type": "markdown",
      "metadata": {
        "id": "LltKbWoIhdfz"
      },
      "source": [
        "Refer to the Bayesian Network Belief [image](https://drive.google.com/file/d/1dn5nwLxzzPk-HRqlF-JJZvREf1fPZG__/view?usp=share_link) for this question. "
      ]
    },
    {
      "cell_type": "markdown",
      "metadata": {
        "id": "N-uiFrHzrn27"
      },
      "source": [
        "![picture](https://drive.google.com/uc?id=1dn5nwLxzzPk-HRqlF-JJZvREf1fPZG__)"
      ]
    },
    {
      "cell_type": "markdown",
      "metadata": {
        "id": "6WX3FxClD-n7"
      },
      "source": [
        "All nodes are binary and can take 0/1 values\n",
        "\n",
        "The probabilities are given below:\n",
        "\n",
        "P(Season = 1) = .001   \n",
        "P(Atmospheric Pressure = 1) = .0.002\n",
        "\n",
        "\n",
        "P(Rain = 1 | Season = 0, Atmospheric Pressure = 0) = .001  \n",
        "P(Rain = 1 | Season = 0, Atmospheric Pressure = 1) = .29  \n",
        "P(Rain = 1 | Season = 1, Atmospheric Pressure = 0) = .94  \n",
        "P(Rain = 1 | Season = 1, Atmospheric Pressure = 1) = .95\n",
        "\n",
        "P(Umbrella = 1 | Rain = 1) = .9  \n",
        "P(Umbrella = 1 | Rain = 0) = .05\n",
        "\n",
        "For the given Bayesian network, compute the following probabilities : \n",
        "\n",
        "\n",
        "1.1 Find the probability that  Umbrella = 0. (4 points)\n",
        "\n",
        "1.2  Given that there is low Atmospheric Pressure (Atmospheric Pressure = 0), what is the probability that Rain = 1. (4 points)\n",
        "\n",
        "1.3  Given that it rains(Rain = 1), what is the probability that the it is rainy season (Season = 1). (7 points)"
      ]
    },
    {
      "cell_type": "markdown",
      "metadata": {
        "id": "klZrfH7AEJdi"
      },
      "source": [
        "Answer:"
      ]
    },
    {
      "attachments": {},
      "cell_type": "markdown",
      "metadata": {},
      "source": [
        "First, let's define some probabilities\n",
        "$$\n",
        "\\begin{align*}\n",
        "P(X=1)=P(X) \\text{, ie. } P(Season = 1)=P(S)\\\\\n",
        "\\\\\n",
        "P(\\bar{S}) = 1-P(S) = 1-0.001 = 0.999\\\\\n",
        "\\\\\n",
        "P(\\bar{A}) = 1-P(A) = 1-0.002 = 0.998\\\\\n",
        "\\\\\n",
        "P(R) = P(S \\cap A \\cap R) + P(\\bar{S} \\cap A \\cap R) + P(S \\cap \\bar{A} \\cap R) + P(\\bar{S} \\cap \\bar{A} \\cap R) \\\\\n",
        "= P(S \\cap A)P(R|S,A) + P(\\bar{S} \\cap A)P(R|\\bar{S},A) + P(S \\cap \\bar{A})P(R|S,\\bar{A}) + P(\\bar{S} \\cap \\bar{A})P(R|\\bar{S},\\bar{A})\\\\\n",
        "= P(S)P(A)P(R|S,A) + P(\\bar{S})P(A)P(R|\\bar{S},A) + P(S)P(\\bar{A})P(R|S,\\bar{A}) + P(\\bar{S})P(\\bar{A})P(R|\\bar{S},\\bar{A})\\\\\n",
        "= (0.001)(0.002)(0.95) + (0.999)(0.002)(0.29) + (0.001)(0.998)(0.94) + (0.999)(0.998)(0.001)\\\\\n",
        "= 0.002516 \\\\\n",
        "\\\\\n",
        "P(\\bar{R}) = 1-0.002516=0.997484\\\\\n",
        "\\\\\n",
        "P(R|S) = P(S \\cap A \\cap R) + P(\\bar{S} \\cap A \\cap R) + P(S \\cap \\bar{A} \\cap R) + P(\\bar{S} \\cap \\bar{A} \\cap R) \\\\\n",
        "= P(S \\cap A)P(R|S,A) + P(\\bar{S} \\cap A)P(R|\\bar{S},A) + P(S \\cap \\bar{A})P(R|S,\\bar{A}) + P(\\bar{S} \\cap \\bar{A})P(R|\\bar{S},\\bar{A})\\\\\n",
        "= P(S)P(A)P(R|S,A) + P(\\bar{S})P(A)P(R|\\bar{S},A) + P(S)P(\\bar{A})P(R|S,\\bar{A}) + P(\\bar{S})P(\\bar{A})P(R|\\bar{S},\\bar{A})\\\\\n",
        "= (1)(0.002)(0.95) + (0)(0.002)(0.29) + (1)(0.998)(0.94) + (0)(0.998)(0.001)\\\\\n",
        "= 0.94002\n",
        "\\end{align*}\n",
        "$$"
      ]
    },
    {
      "attachments": {},
      "cell_type": "markdown",
      "metadata": {},
      "source": [
        "### 1.1\n",
        "$$\n",
        "\\begin{align*}\n",
        "P(\\bar{U}) = 1 - P(U) \\\\\n",
        "= 1 - (P(R)P(U|R)+P(\\bar{R})P(U|\\bar{R}))\\\\\n",
        "= 1 - ((0.002516)(0.9) + (0.997484)(0.05))\n",
        "P(\\bar{U})=0.947861\n",
        "\\end{align*}\n",
        "$$"
      ]
    },
    {
      "attachments": {},
      "cell_type": "markdown",
      "metadata": {},
      "source": [
        "### 1.2\n",
        "$$\n",
        "\\begin{align*}\n",
        "P(R|\\bar{A}) = P(S \\cap A \\cap R) + P(\\bar{S} \\cap A \\cap R) + P(S \\cap \\bar{A} \\cap R) + P(\\bar{S} \\cap \\bar{A} \\cap R) \\\\\n",
        "= P(S \\cap A)P(R|S,A) + P(\\bar{S} \\cap A)P(R|\\bar{S},A) + P(S \\cap \\bar{A})P(R|S,\\bar{A}) + P(\\bar{S} \\cap \\bar{A})P(R|\\bar{S},\\bar{A})\\\\\n",
        "= P(S)P(A)P(R|S,A) + P(\\bar{S})P(A)P(R|\\bar{S},A) + P(S)P(\\bar{A})P(R|S,\\bar{A}) + P(\\bar{S})P(\\bar{A})P(R|\\bar{S},\\bar{A})\\\\\n",
        "= (0.001)(0)(0.95) + (0.999)(0)(0.29) + (0.001)(1)(0.94) + (0.999)(1)(0.001)\\\\\n",
        "= 0.001939\n",
        "\\end{align*}\n",
        "$$"
      ]
    },
    {
      "attachments": {},
      "cell_type": "markdown",
      "metadata": {},
      "source": [
        "### 1.3\n",
        "$$\n",
        "\\begin{align*}\n",
        "P(S|R) = \\frac{P(S)P(R|S)}{P(S)P(R|S)+P(\\bar{S})P(R|\\bar{S})}\\\\\n",
        "=\\frac{P(S)P(R|S)}{P(R)}\\\\\n",
        "=\\frac{(0.001)(0.94002)}{0.002516}\\\\\n",
        "P(S|R)=0.373617\n",
        "\\end{align*}\n",
        "$$"
      ]
    },
    {
      "cell_type": "markdown",
      "metadata": {
        "id": "JtGre3IncorE"
      },
      "source": [
        "## Q2. Logistic Regression (20 points)\n",
        "\n",
        "2.1 Suppose you are trying to learn a logistic regression based classifier on a dataset $D = (x_i, y_i)^n$, i.e., you have n data samples in this dataset where each $x_i$ is a d-dimensional vector and $y_i \\in \\{-1,1\\}$. Learning this classifier requires to find optimal $w$ and $b$ so that the probability of a data point $x$ belonging to class 1 is given by $\\sigma(w^Tx+b)$ where $\\sigma$ is the sigmoid function. Write the cost function as a function of $w$ and $b$ for this problem in a way that it tries to minimize the log loss function over the given dataset. You can learn more about the log loss [here](https://developers.google.com/machine-learning/crash-course/logistic-regression/model-training). (10 points)\n",
        "\n"
      ]
    },
    {
      "cell_type": "markdown",
      "metadata": {
        "id": "aIPaEHeyenD-"
      },
      "source": [
        "2.2 Now consider a simpler problem with 2-dimensional data $x = [x_1, x_2]$. Given you have learnt optimal $w = [1,2]$ and $b = 0$. Draw the decision boundary for this classifier. Given this decision boundary, how do you classify a point $x=[1,1]$? (8+2=10 points)\n"
      ]
    },
    {
      "cell_type": "markdown",
      "metadata": {
        "id": "2QjVoh8WhRhg"
      },
      "source": [
        "Answer:"
      ]
    },
    {
      "attachments": {},
      "cell_type": "markdown",
      "metadata": {},
      "source": [
        "### 2.2\n",
        "\n",
        "$$\n",
        "\\begin{align*}\n",
        "\\hat{y} = w^{T}x+b\\\\\n",
        "=\\left(\\begin{matrix}\n",
        "  1 & 2\n",
        "\\end{matrix}\\right)\n",
        "\\left(\\begin{matrix}\n",
        "  1 \\\\\n",
        "  1\n",
        "\\end{matrix}\\right) + 0\\\\\n",
        "= 3\n",
        "\\end{align*}\n",
        "$$"
      ]
    },
    {
      "cell_type": "markdown",
      "metadata": {
        "id": "G5-HxsO4hTzL"
      },
      "source": [
        "# Q3. Logistic Regression for Imbalanced Datasets (25 points)\n",
        "\n",
        "Consider a binary imbalanced class problem given in the [`hw5_classification_dataset.csv`](https://drive.google.com/file/d/1KAEOYPfMVw2oIhMIPGTXAriBNhPawZtI/view?usp=share_link). Load the dataset into a pandas dataframe and print label distribution.\n",
        "\n",
        "3.1 Data Pre-processing : Perform one-hot encoding of the features named `['InternetService','Contract','PaymentMethod']` to get the dummy features. (3 points)\n",
        "\n",
        "3.2 Training : Train a logistic regression classifier after splitting the data in train/test datasets using 80/20 split and random_state = 15. Obtain and report the confusion matrix, accuracy and the AUC-ROC score of the classifier on the test data. What do you observe with respect to the performance of the model on different classes? (10 points)\n",
        "\n",
        "3.3 Now, use class weights to modify the cost of wrong predictions for different classes differently by appropriately setting the `class_weight` parameter in the logistic regression classifier. Again print the confusion matrix, accuracy and the AUC-ROC score of the classifier on the test data. (7 points)\n",
        "\n",
        "3.4 Mention an alternative method that could be used to address class imbalance in classification problems, briefly explaining how this method works and providing a reference (5 points)\n",
        "\n"
      ]
    },
    {
      "cell_type": "code",
      "execution_count": null,
      "metadata": {
        "id": "kHcUr_z0IZDB"
      },
      "outputs": [],
      "source": [
        "import pandas as pd\n",
        "import numpy as np\n",
        "import matplotlib.pyplot as plt\n",
        "\n",
        "from sklearn.model_selection import train_test_split\n",
        "from sklearn.metrics import roc_auc_score\n",
        "from sklearn import metrics\n",
        "from sklearn.metrics import confusion_matrix\n",
        "\n",
        "df = pd.read_csv('hw5_classification_dataset.csv', index_col = [0])"
      ]
    },
    {
      "cell_type": "code",
      "execution_count": null,
      "metadata": {
        "id": "Pt2l9n8lIxbQ"
      },
      "outputs": [],
      "source": [
        "#One hot encoding for categorical columns\n"
      ]
    },
    {
      "cell_type": "code",
      "execution_count": null,
      "metadata": {
        "id": "UwDi3DrMI1QN"
      },
      "outputs": [],
      "source": [
        "# Train test split\n",
        "from sklearn.model_selection import train_test_split"
      ]
    },
    {
      "cell_type": "code",
      "execution_count": null,
      "metadata": {
        "id": "qK8r4YxBJO-7"
      },
      "outputs": [],
      "source": [
        "from sklearn.linear_model import LogisticRegression\n",
        "from sklearn.metrics import confusion_matrix\n",
        "from sklearn.metrics import f1_score, roc_auc_score\n",
        "# Answer here\n"
      ]
    },
    {
      "cell_type": "markdown",
      "metadata": {
        "id": "NGEJne27SGfq"
      },
      "source": [
        "# Question 4 - Ensembles methods for classification (40 pts)\n",
        "\n",
        "We will use the dataset from the kaggle competition [GiveMeSomeCredit](https://www.kaggle.com/c/GiveMeSomeCredit). We will work on a smaller version of this dataset. The dataset is available on canvas as ensemble-dataset.csv. \n",
        "We will predict the probability that somebody will experience financial distress in the next two years. The dataset has already been split into train and test sets for you."
      ]
    },
    {
      "cell_type": "code",
      "execution_count": null,
      "metadata": {
        "colab": {
          "base_uri": "https://localhost:8080/",
          "height": 270
        },
        "id": "cKXWaSd6OH4A",
        "outputId": "eb8b7b6a-46c2-48e8-ac11-7a20d67ca3cc"
      },
      "outputs": [
        {
          "data": {
            "text/html": [
              "\n",
              "  <div id=\"df-4bc93962-eadc-4eae-8e01-8cb6d178dc6d\">\n",
              "    <div class=\"colab-df-container\">\n",
              "      <div>\n",
              "<style scoped>\n",
              "    .dataframe tbody tr th:only-of-type {\n",
              "        vertical-align: middle;\n",
              "    }\n",
              "\n",
              "    .dataframe tbody tr th {\n",
              "        vertical-align: top;\n",
              "    }\n",
              "\n",
              "    .dataframe thead th {\n",
              "        text-align: right;\n",
              "    }\n",
              "</style>\n",
              "<table border=\"1\" class=\"dataframe\">\n",
              "  <thead>\n",
              "    <tr style=\"text-align: right;\">\n",
              "      <th></th>\n",
              "      <th>SeriousDlqin2yrs</th>\n",
              "      <th>RevolvingUtilizationOfUnsecuredLines</th>\n",
              "      <th>age</th>\n",
              "      <th>NumberOfTime30.59DaysPastDueNotWorse</th>\n",
              "      <th>DebtRatio</th>\n",
              "      <th>MonthlyIncome</th>\n",
              "      <th>NumberOfOpenCreditLinesAndLoans</th>\n",
              "      <th>NumberOfTimes90DaysLate</th>\n",
              "      <th>NumberRealEstateLoansOrLines</th>\n",
              "      <th>NumberOfTime60.89DaysPastDueNotWorse</th>\n",
              "      <th>NumberOfDependents</th>\n",
              "    </tr>\n",
              "  </thead>\n",
              "  <tbody>\n",
              "    <tr>\n",
              "      <th>0</th>\n",
              "      <td>0</td>\n",
              "      <td>1.062646</td>\n",
              "      <td>50</td>\n",
              "      <td>2</td>\n",
              "      <td>0.179032</td>\n",
              "      <td>3490</td>\n",
              "      <td>8</td>\n",
              "      <td>1</td>\n",
              "      <td>0</td>\n",
              "      <td>1</td>\n",
              "      <td>1</td>\n",
              "    </tr>\n",
              "    <tr>\n",
              "      <th>1</th>\n",
              "      <td>0</td>\n",
              "      <td>0.003591</td>\n",
              "      <td>83</td>\n",
              "      <td>0</td>\n",
              "      <td>0.000869</td>\n",
              "      <td>10352</td>\n",
              "      <td>14</td>\n",
              "      <td>0</td>\n",
              "      <td>0</td>\n",
              "      <td>0</td>\n",
              "      <td>0</td>\n",
              "    </tr>\n",
              "    <tr>\n",
              "      <th>2</th>\n",
              "      <td>0</td>\n",
              "      <td>1.000000</td>\n",
              "      <td>22</td>\n",
              "      <td>0</td>\n",
              "      <td>0.000000</td>\n",
              "      <td>100</td>\n",
              "      <td>1</td>\n",
              "      <td>0</td>\n",
              "      <td>0</td>\n",
              "      <td>0</td>\n",
              "      <td>0</td>\n",
              "    </tr>\n",
              "    <tr>\n",
              "      <th>3</th>\n",
              "      <td>0</td>\n",
              "      <td>0.000000</td>\n",
              "      <td>52</td>\n",
              "      <td>0</td>\n",
              "      <td>0.336355</td>\n",
              "      <td>7060</td>\n",
              "      <td>10</td>\n",
              "      <td>0</td>\n",
              "      <td>2</td>\n",
              "      <td>0</td>\n",
              "      <td>3</td>\n",
              "    </tr>\n",
              "    <tr>\n",
              "      <th>4</th>\n",
              "      <td>0</td>\n",
              "      <td>0.220152</td>\n",
              "      <td>54</td>\n",
              "      <td>0</td>\n",
              "      <td>0.235064</td>\n",
              "      <td>4083</td>\n",
              "      <td>15</td>\n",
              "      <td>0</td>\n",
              "      <td>0</td>\n",
              "      <td>0</td>\n",
              "      <td>1</td>\n",
              "    </tr>\n",
              "  </tbody>\n",
              "</table>\n",
              "</div>\n",
              "      <button class=\"colab-df-convert\" onclick=\"convertToInteractive('df-4bc93962-eadc-4eae-8e01-8cb6d178dc6d')\"\n",
              "              title=\"Convert this dataframe to an interactive table.\"\n",
              "              style=\"display:none;\">\n",
              "        \n",
              "  <svg xmlns=\"http://www.w3.org/2000/svg\" height=\"24px\"viewBox=\"0 0 24 24\"\n",
              "       width=\"24px\">\n",
              "    <path d=\"M0 0h24v24H0V0z\" fill=\"none\"/>\n",
              "    <path d=\"M18.56 5.44l.94 2.06.94-2.06 2.06-.94-2.06-.94-.94-2.06-.94 2.06-2.06.94zm-11 1L8.5 8.5l.94-2.06 2.06-.94-2.06-.94L8.5 2.5l-.94 2.06-2.06.94zm10 10l.94 2.06.94-2.06 2.06-.94-2.06-.94-.94-2.06-.94 2.06-2.06.94z\"/><path d=\"M17.41 7.96l-1.37-1.37c-.4-.4-.92-.59-1.43-.59-.52 0-1.04.2-1.43.59L10.3 9.45l-7.72 7.72c-.78.78-.78 2.05 0 2.83L4 21.41c.39.39.9.59 1.41.59.51 0 1.02-.2 1.41-.59l7.78-7.78 2.81-2.81c.8-.78.8-2.07 0-2.86zM5.41 20L4 18.59l7.72-7.72 1.47 1.35L5.41 20z\"/>\n",
              "  </svg>\n",
              "      </button>\n",
              "      \n",
              "  <style>\n",
              "    .colab-df-container {\n",
              "      display:flex;\n",
              "      flex-wrap:wrap;\n",
              "      gap: 12px;\n",
              "    }\n",
              "\n",
              "    .colab-df-convert {\n",
              "      background-color: #E8F0FE;\n",
              "      border: none;\n",
              "      border-radius: 50%;\n",
              "      cursor: pointer;\n",
              "      display: none;\n",
              "      fill: #1967D2;\n",
              "      height: 32px;\n",
              "      padding: 0 0 0 0;\n",
              "      width: 32px;\n",
              "    }\n",
              "\n",
              "    .colab-df-convert:hover {\n",
              "      background-color: #E2EBFA;\n",
              "      box-shadow: 0px 1px 2px rgba(60, 64, 67, 0.3), 0px 1px 3px 1px rgba(60, 64, 67, 0.15);\n",
              "      fill: #174EA6;\n",
              "    }\n",
              "\n",
              "    [theme=dark] .colab-df-convert {\n",
              "      background-color: #3B4455;\n",
              "      fill: #D2E3FC;\n",
              "    }\n",
              "\n",
              "    [theme=dark] .colab-df-convert:hover {\n",
              "      background-color: #434B5C;\n",
              "      box-shadow: 0px 1px 3px 1px rgba(0, 0, 0, 0.15);\n",
              "      filter: drop-shadow(0px 1px 2px rgba(0, 0, 0, 0.3));\n",
              "      fill: #FFFFFF;\n",
              "    }\n",
              "  </style>\n",
              "\n",
              "      <script>\n",
              "        const buttonEl =\n",
              "          document.querySelector('#df-4bc93962-eadc-4eae-8e01-8cb6d178dc6d button.colab-df-convert');\n",
              "        buttonEl.style.display =\n",
              "          google.colab.kernel.accessAllowed ? 'block' : 'none';\n",
              "\n",
              "        async function convertToInteractive(key) {\n",
              "          const element = document.querySelector('#df-4bc93962-eadc-4eae-8e01-8cb6d178dc6d');\n",
              "          const dataTable =\n",
              "            await google.colab.kernel.invokeFunction('convertToInteractive',\n",
              "                                                     [key], {});\n",
              "          if (!dataTable) return;\n",
              "\n",
              "          const docLinkHtml = 'Like what you see? Visit the ' +\n",
              "            '<a target=\"_blank\" href=https://colab.research.google.com/notebooks/data_table.ipynb>data table notebook</a>'\n",
              "            + ' to learn more about interactive tables.';\n",
              "          element.innerHTML = '';\n",
              "          dataTable['output_type'] = 'display_data';\n",
              "          await google.colab.output.renderOutput(dataTable, element);\n",
              "          const docLink = document.createElement('div');\n",
              "          docLink.innerHTML = docLinkHtml;\n",
              "          element.appendChild(docLink);\n",
              "        }\n",
              "      </script>\n",
              "    </div>\n",
              "  </div>\n",
              "  "
            ],
            "text/plain": [
              "   SeriousDlqin2yrs  RevolvingUtilizationOfUnsecuredLines  age  \\\n",
              "0                 0                              1.062646   50   \n",
              "1                 0                              0.003591   83   \n",
              "2                 0                              1.000000   22   \n",
              "3                 0                              0.000000   52   \n",
              "4                 0                              0.220152   54   \n",
              "\n",
              "   NumberOfTime30.59DaysPastDueNotWorse  DebtRatio  MonthlyIncome  \\\n",
              "0                                     2   0.179032           3490   \n",
              "1                                     0   0.000869          10352   \n",
              "2                                     0   0.000000            100   \n",
              "3                                     0   0.336355           7060   \n",
              "4                                     0   0.235064           4083   \n",
              "\n",
              "   NumberOfOpenCreditLinesAndLoans  NumberOfTimes90DaysLate  \\\n",
              "0                                8                        1   \n",
              "1                               14                        0   \n",
              "2                                1                        0   \n",
              "3                               10                        0   \n",
              "4                               15                        0   \n",
              "\n",
              "   NumberRealEstateLoansOrLines  NumberOfTime60.89DaysPastDueNotWorse  \\\n",
              "0                             0                                     1   \n",
              "1                             0                                     0   \n",
              "2                             0                                     0   \n",
              "3                             2                                     0   \n",
              "4                             0                                     0   \n",
              "\n",
              "   NumberOfDependents  \n",
              "0                   1  \n",
              "1                   0  \n",
              "2                   0  \n",
              "3                   3  \n",
              "4                   1  "
            ]
          },
          "execution_count": 1,
          "metadata": {},
          "output_type": "execute_result"
        }
      ],
      "source": [
        "import pandas as pd\n",
        "data = pd.read_csv('ensemble-dataset.csv')\n",
        "data.head()"
      ]
    },
    {
      "cell_type": "code",
      "execution_count": null,
      "metadata": {
        "colab": {
          "base_uri": "https://localhost:8080/"
        },
        "id": "8gDtJv05SQ1a",
        "outputId": "8be1feeb-4eb1-4cf1-dbfc-d1ca4a0c79e0"
      },
      "outputs": [
        {
          "name": "stdout",
          "output_type": "stream",
          "text": [
            "train (3382, 10) (3382,)\n",
            "test (1667, 10) (1667,)\n"
          ]
        }
      ],
      "source": [
        "from sklearn.model_selection import train_test_split\n",
        "y = data['SeriousDlqin2yrs']\n",
        "X = data.drop(['SeriousDlqin2yrs'],axis=1)\n",
        "X_train, X_test, y_train, y_test = train_test_split(X, y, test_size = 0.33, random_state = 42)\n",
        "\n",
        "print('train',X_train.shape,y_train.shape)\n",
        "print('test',X_test.shape,y_test.shape)"
      ]
    },
    {
      "cell_type": "markdown",
      "metadata": {
        "id": "y8go9I7xSVVJ"
      },
      "source": [
        "In this question, we will compare performance of different ensemble methods for classification problems: [Bagging](https://scikit-learn.org/stable/modules/generated/sklearn.ensemble.BaggingClassifier.html), [Random Forest](https://scikit-learn.org/stable/modules/generated/sklearn.ensemble.RandomForestClassifier.html), and [XGBoost](https://xgboost.readthedocs.io/en/stable/get_started.html) Classifiers. When training each of these models, use [GridSearchCV](https://scikit-learn.org/stable/modules/generated/sklearn.model_selection.GridSearchCV.html) to perform a hyperparameter search using only the train data with `cv=3`, and report the best hyperparameters you have found. For each of the models below, report the [log_loss](https://scikit-learn.org/stable/modules/generated/sklearn.metrics.log_loss.html), accuracy_score, roc_auc_score and the [calibration curve plot](https://scikit-learn.org/stable/modules/generated/sklearn.calibration.CalibrationDisplay.html#sklearn.calibration.CalibrationDisplay.from_estimator) using the best hyperparameters you have found. \n",
        "\n",
        "4.1 Use an MLP with random_state = 42. (7 points)\n",
        "\n",
        "4.2 Use a Decision Tree Classifier with random_state = 42. (7 points)\n",
        "\n",
        "4.3 Create an ensemble of 20 classifiers (i.e n_estimators = 20) with random_state = 42 for [bagging](https://scikit-learn.org/stable/modules/generated/sklearn.ensemble.BaggingClassifier.html) with base classifier as Decision Tree Classifier from part 1. (7 points)\n",
        "\n",
        "4.4 Use a [Random Forest](http://scikit-learn.org/stable/modules/generated/sklearn.ensemble.RandomForestClassifier.html) classifier with random_state=42. (7 points)\n",
        "\n",
        "4.5 Use [XGBoost](https://xgboost.readthedocs.io/en/stable/get_started.html) with random_state=42. (7 points)\n",
        "\n",
        "4.6 Compare the performance of the decision tree and MLP with the ensemble methods based on the results you have obtained (all 4 metrics). (5 points)"
      ]
    },
    {
      "cell_type": "code",
      "execution_count": null,
      "metadata": {
        "id": "26y3CVzA40Bq"
      },
      "outputs": [],
      "source": [
        "import matplotlib.pyplot as plt\n",
        "from sklearn.model_selection import (train_test_split,GridSearchCV)\n",
        "from sklearn.metrics import (accuracy_score,roc_auc_score)\n",
        "from sklearn.ensemble import (RandomForestClassifier,GradientBoostingClassifier,AdaBoostClassifier)\n",
        "from sklearn.ensemble import RandomForestClassifier, BaggingClassifier\n",
        "from sklearn.metrics import confusion_matrix, classification_report\n",
        "from sklearn.tree import DecisionTreeClassifier\n",
        "from sklearn.model_selection import GridSearchCV\n",
        "\n",
        "from time import time\n",
        "%matplotlib inline"
      ]
    },
    {
      "cell_type": "code",
      "execution_count": null,
      "metadata": {
        "id": "2cix_0SJ44YW"
      },
      "outputs": [],
      "source": [
        "columns_list = list(X.columns)"
      ]
    },
    {
      "cell_type": "code",
      "execution_count": null,
      "metadata": {
        "id": "fgsy9L-N45-A"
      },
      "outputs": [],
      "source": [
        "def grid_search(model, params, model_name):\n",
        "    # define your GridSearchCV object with the relevant parameters\n",
        "    # TODO\n",
        "\n",
        "    # fit the grid search model with the train data and print the best parameters\n",
        "    # TODO\n",
        "\n",
        "    # use the fitted model with the best parameters to predict on the test set and report the metrics\n",
        "    # TODO\n",
        "\n",
        "    pass"
      ]
    },
    {
      "cell_type": "markdown",
      "metadata": {
        "id": "NblG4pg140ga"
      },
      "source": [
        "Answer:"
      ]
    }
  ],
  "metadata": {
    "colab": {
      "provenance": []
    },
    "kernelspec": {
      "display_name": "Python 3",
      "name": "python3"
    },
    "language_info": {
      "name": "python"
    }
  },
  "nbformat": 4,
  "nbformat_minor": 0
}
